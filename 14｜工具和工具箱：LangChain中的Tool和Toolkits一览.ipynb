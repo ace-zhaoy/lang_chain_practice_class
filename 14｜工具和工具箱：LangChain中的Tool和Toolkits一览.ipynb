{
 "cells": [
  {
   "cell_type": "markdown",
   "id": "5cc5edfb-18f6-4886-8c22-0899b907dee6",
   "metadata": {
    "execution": {
     "iopub.execute_input": "2024-07-08T14:56:08.072196Z",
     "iopub.status.busy": "2024-07-08T14:56:08.071503Z",
     "iopub.status.idle": "2024-07-08T14:56:08.080999Z",
     "shell.execute_reply": "2024-07-08T14:56:08.079881Z",
     "shell.execute_reply.started": "2024-07-08T14:56:08.072163Z"
    }
   },
   "source": [
    "# 使用 arXiv 工具开发科研助理"
   ]
  },
  {
   "cell_type": "code",
   "execution_count": null,
   "id": "9794feb8-9f04-4a7a-86f5-f1478b3f0351",
   "metadata": {},
   "outputs": [],
   "source": []
  }
 ],
 "metadata": {
  "kernelspec": {
   "display_name": "Python 3 (ipykernel)",
   "language": "python",
   "name": "python3"
  },
  "language_info": {
   "codemirror_mode": {
    "name": "ipython",
    "version": 3
   },
   "file_extension": ".py",
   "mimetype": "text/x-python",
   "name": "python",
   "nbconvert_exporter": "python",
   "pygments_lexer": "ipython3",
   "version": "3.10.12"
  }
 },
 "nbformat": 4,
 "nbformat_minor": 5
}
