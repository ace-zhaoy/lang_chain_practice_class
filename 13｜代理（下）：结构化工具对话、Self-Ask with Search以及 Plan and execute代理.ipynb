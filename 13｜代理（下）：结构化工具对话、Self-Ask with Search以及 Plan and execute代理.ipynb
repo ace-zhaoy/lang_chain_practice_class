{
 "cells": [
  {
   "cell_type": "code",
   "execution_count": 11,
   "id": "b1db6460-1d2a-4e61-94b8-a1b7d861ad99",
   "metadata": {
    "ExecuteTime": {
     "end_time": "2024-07-02T15:28:22.096874800Z",
     "start_time": "2024-07-02T15:28:18.701679200Z"
    },
    "execution": {
     "iopub.execute_input": "2024-07-08T13:40:40.333657Z",
     "iopub.status.busy": "2024-07-08T13:40:40.332900Z",
     "iopub.status.idle": "2024-07-08T13:41:08.909306Z",
     "shell.execute_reply": "2024-07-08T13:41:08.907933Z",
     "shell.execute_reply.started": "2024-07-08T13:40:40.333622Z"
    },
    "scrolled": true,
    "tags": []
   },
   "outputs": [
    {
     "name": "stdout",
     "output_type": "stream",
     "text": [
      "Requirement already satisfied: playwright in /usr/local/lib/python3.10/dist-packages (1.45.0)\n",
      "Requirement already satisfied: greenlet==3.0.3 in /usr/local/lib/python3.10/dist-packages (from playwright) (3.0.3)\n",
      "Requirement already satisfied: pyee==11.1.0 in /usr/local/lib/python3.10/dist-packages (from playwright) (11.1.0)\n",
      "Requirement already satisfied: typing-extensions in /usr/local/lib/python3.10/dist-packages (from pyee==11.1.0->playwright) (4.11.0)\n",
      "\u001b[33mWARNING: Running pip as the 'root' user can result in broken permissions and conflicting behaviour with the system package manager. It is recommended to use a virtual environment instead: https://pip.pypa.io/warnings/venv\u001b[0m\u001b[33m\n",
      "\u001b[0m\n",
      "\u001b[1m[\u001b[0m\u001b[34;49mnotice\u001b[0m\u001b[1;39;49m]\u001b[0m\u001b[39;49m A new release of pip is available: \u001b[0m\u001b[31;49m24.0\u001b[0m\u001b[39;49m -> \u001b[0m\u001b[32;49m24.1.1\u001b[0m\n",
      "\u001b[1m[\u001b[0m\u001b[34;49mnotice\u001b[0m\u001b[1;39;49m]\u001b[0m\u001b[39;49m To update, run: \u001b[0m\u001b[32;49mpython3 -m pip install --upgrade pip\u001b[0m\n",
      "Installing dependencies...\n",
      "Hit:1 http://archive.ubuntu.com/ubuntu jammy InRelease\n",
      "Get:2 http://archive.ubuntu.com/ubuntu jammy-updates InRelease [128 kB]\n",
      "Hit:3 http://archive.ubuntu.com/ubuntu jammy-backports InRelease\n",
      "Get:4 http://archive.ubuntu.com/ubuntu jammy-updates/main amd64 Packages [2258 kB]\n",
      "Get:5 http://security.ubuntu.com/ubuntu jammy-security InRelease [129 kB]      \n",
      "Hit:6 https://developer.download.nvidia.com/compute/cuda/repos/ubuntu2204/x86_64  InRelease\n",
      "Hit:7 https://deb.nodesource.com/node_18.x nodistro InRelease                  \n",
      "Get:8 http://archive.ubuntu.com/ubuntu jammy-updates/universe amd64 Packages [1409 kB]\n",
      "Fetched 3924 kB in 18s (220 kB/s)                                              \n",
      "Reading package lists... Done\n",
      "Reading package lists... Done\n",
      "Building dependency tree... Done\n",
      "Reading state information... Done\n",
      "fonts-freefont-ttf is already the newest version (20120503-10build1).\n",
      "fonts-liberation is already the newest version (1:1.07.4-11).\n",
      "libasound2 is already the newest version (1.2.6.1-1ubuntu1).\n",
      "libatk-bridge2.0-0 is already the newest version (2.38.0-3).\n",
      "libatk1.0-0 is already the newest version (2.36.0-3build1).\n",
      "libatspi2.0-0 is already the newest version (2.44.0-3).\n",
      "libcairo-gobject2 is already the newest version (1.16.0-5ubuntu2).\n",
      "libcairo2 is already the newest version (1.16.0-5ubuntu2).\n",
      "libdbus-glib-1-2 is already the newest version (0.112-2build1).\n",
      "libegl1 is already the newest version (1.4.0-1).\n",
      "libenchant-2-2 is already the newest version (2.3.2-1ubuntu2).\n",
      "libepoxy0 is already the newest version (1.5.10-1).\n",
      "libevdev2 is already the newest version (1.12.1+dfsg-1).\n",
      "libevent-2.1-7 is already the newest version (2.1.12-stable-1build3).\n",
      "libfontconfig1 is already the newest version (2.13.1-4.2ubuntu5).\n",
      "libgles2 is already the newest version (1.4.0-1).\n",
      "libglx0 is already the newest version (1.4.0-1).\n",
      "libgudev-1.0-0 is already the newest version (1:237-2build1).\n",
      "libhyphen0 is already the newest version (2.8.8-7build2).\n",
      "libicu70 is already the newest version (70.1-2).\n",
      "libjpeg-turbo8 is already the newest version (2.1.2-0ubuntu1).\n",
      "liblcms2-2 is already the newest version (2.12~rc1-2build2).\n",
      "libmanette-0.2-0 is already the newest version (0.2.6-3build1).\n",
      "libopengl0 is already the newest version (1.4.0-1).\n",
      "libopenjp2-7 is already the newest version (2.4.0-6).\n",
      "libopus0 is already the newest version (1.3.1-0.1build2).\n",
      "libpng16-16 is already the newest version (1.6.37-3build5).\n",
      "libproxy1v5 is already the newest version (0.4.17-2).\n",
      "libsecret-1-0 is already the newest version (0.20.5-2).\n",
      "libwoff1 is already the newest version (1.0.2-1build4).\n",
      "libxcb-shm0 is already the newest version (1.14-3ubuntu3).\n",
      "libxcb1 is already the newest version (1.14-3ubuntu3).\n",
      "libxcomposite1 is already the newest version (1:0.4.5-1build2).\n",
      "libxcursor1 is already the newest version (1:1.2.0-2build4).\n",
      "libxdamage1 is already the newest version (1:1.1.5-2build2).\n",
      "libxext6 is already the newest version (2:1.3.4-1build1).\n",
      "libxfixes3 is already the newest version (1:6.0.0-1).\n",
      "libxi6 is already the newest version (2:1.8-1build1).\n",
      "libxkbcommon0 is already the newest version (1.4.0-1).\n",
      "libxrandr2 is already the newest version (2:1.5.2-1build1).\n",
      "libxrender1 is already the newest version (1:0.9.10-1build4).\n",
      "libxtst6 is already the newest version (2:1.2.3-1build4).\n",
      "xfonts-scalable is already the newest version (1:1.0.3-1.2ubuntu1).\n",
      "fonts-ipafont-gothic is already the newest version (00303-21ubuntu1).\n",
      "fonts-tlwg-loma-otf is already the newest version (1:0.7.3-1).\n",
      "fonts-unifont is already the newest version (1:14.0.01-1).\n",
      "fonts-wqy-zenhei is already the newest version (0.9.45-8).\n",
      "libffi7 is already the newest version (3.3-5ubuntu1).\n",
      "libx264-163 is already the newest version (2:0.163.3060+git5db6aa6-2build1).\n",
      "xfonts-cyrillic is already the newest version (1:1.0.5).\n",
      "fonts-noto-color-emoji is already the newest version (2.042-0ubuntu0.22.04.1).\n",
      "gstreamer1.0-plugins-base is already the newest version (1.20.1-1ubuntu0.2).\n",
      "gstreamer1.0-plugins-good is already the newest version (1.20.3-0ubuntu1.1).\n",
      "libatomic1 is already the newest version (12.3.0-1ubuntu1~22.04).\n",
      "libcups2 is already the newest version (2.4.1op1-1ubuntu4.10).\n",
      "libdbus-1-3 is already the newest version (1.12.20-2ubuntu4.1).\n",
      "libdrm2 is already the newest version (2.4.113-2~ubuntu0.22.04.1).\n",
      "libfreetype6 is already the newest version (2.11.1+dfsg-1ubuntu0.2).\n",
      "libgbm1 is already the newest version (23.2.1-1ubuntu3.1~22.04.2).\n",
      "libgdk-pixbuf-2.0-0 is already the newest version (2.42.8+dfsg-1ubuntu0.3).\n",
      "libglib2.0-0 is already the newest version (2.72.4-0ubuntu2.3).\n",
      "libgstreamer-gl1.0-0 is already the newest version (1.20.1-1ubuntu0.2).\n",
      "libgstreamer-plugins-base1.0-0 is already the newest version (1.20.1-1ubuntu0.2).\n",
      "libgstreamer1.0-0 is already the newest version (1.20.3-0ubuntu1).\n",
      "libgtk-3-0 is already the newest version (3.24.33-1ubuntu2.1).\n",
      "libharfbuzz-icu0 is already the newest version (2.7.4-1ubuntu3.1).\n",
      "libharfbuzz0b is already the newest version (2.7.4-1ubuntu3.1).\n",
      "libnotify4 is already the newest version (0.7.9-3ubuntu5.22.04.1).\n",
      "libnspr4 is already the newest version (2:4.35-0ubuntu0.22.04.1).\n",
      "libnss3 is already the newest version (2:3.98-0ubuntu0.22.04.2).\n",
      "libpango-1.0-0 is already the newest version (1.50.6+ds-2ubuntu1).\n",
      "libpangocairo-1.0-0 is already the newest version (1.50.6+ds-2ubuntu1).\n",
      "libwayland-client0 is already the newest version (1.20.0-1ubuntu0.1).\n",
      "libwayland-egl1 is already the newest version (1.20.0-1ubuntu0.1).\n",
      "libwayland-server0 is already the newest version (1.20.0-1ubuntu0.1).\n",
      "libwebpdemux2 is already the newest version (1.2.2-2ubuntu0.22.04.2).\n",
      "libx11-6 is already the newest version (2:1.7.5-1ubuntu0.3).\n",
      "libx11-xcb1 is already the newest version (2:1.7.5-1ubuntu0.3).\n",
      "libxml2 is already the newest version (2.9.13+dfsg-1ubuntu0.4).\n",
      "libxslt1.1 is already the newest version (1.1.34-4ubuntu0.22.04.1).\n",
      "ffmpeg is already the newest version (7:4.4.2-0ubuntu0.22.04.1).\n",
      "gstreamer1.0-libav is already the newest version (1.20.3-0ubuntu1).\n",
      "gstreamer1.0-plugins-bad is already the newest version (1.20.3-0ubuntu1.1).\n",
      "libsoup-3.0-0 is already the newest version (3.0.7-0ubuntu1).\n",
      "The following additional packages will be installed:\n",
      "  xserver-common\n",
      "Recommended packages:\n",
      "  xfonts-base\n",
      "The following packages will be upgraded:\n",
      "  xserver-common xvfb\n",
      "2 upgraded, 0 newly installed, 0 to remove and 34 not upgraded.\n",
      "Need to get 891 kB of archives.\n",
      "After this operation, 0 B of additional disk space will be used.\n",
      "Get:1 http://archive.ubuntu.com/ubuntu jammy-updates/main amd64 xserver-common all 2:21.1.4-2ubuntu1.7~22.04.11 [28.6 kB]\n",
      "Get:2 http://archive.ubuntu.com/ubuntu jammy-updates/universe amd64 xvfb amd64 2:21.1.4-2ubuntu1.7~22.04.11 [863 kB]\n",
      "Fetched 891 kB in 5s (177 kB/s)\n",
      "debconf: delaying package configuration, since apt-utils is not installed\n",
      "(Reading database ... 43104 files and directories currently installed.)\n",
      "Preparing to unpack .../xserver-common_2%3a21.1.4-2ubuntu1.7~22.04.11_all.deb ...\n",
      "Unpacking xserver-common (2:21.1.4-2ubuntu1.7~22.04.11) over (2:21.1.4-2ubuntu1.7~22.04.10) ...\n",
      "Preparing to unpack .../xvfb_2%3a21.1.4-2ubuntu1.7~22.04.11_amd64.deb ...\n",
      "Unpacking xvfb (2:21.1.4-2ubuntu1.7~22.04.11) over (2:21.1.4-2ubuntu1.7~22.04.10) ...\n",
      "Setting up xserver-common (2:21.1.4-2ubuntu1.7~22.04.11) ...\n",
      "Setting up xvfb (2:21.1.4-2ubuntu1.7~22.04.11) ...\n"
     ]
    }
   ],
   "source": [
    "!pip install playwright\n",
    "!playwright install\n",
    "!playwright install-deps       "
   ]
  },
  {
   "cell_type": "code",
   "execution_count": 12,
   "id": "20ce8fdac5a3c64b",
   "metadata": {
    "ExecuteTime": {
     "end_time": "2024-07-02T16:33:38.358745800Z",
     "start_time": "2024-07-02T16:33:35.514453700Z"
    },
    "collapsed": false,
    "execution": {
     "iopub.execute_input": "2024-07-08T13:41:08.912134Z",
     "iopub.status.busy": "2024-07-08T13:41:08.911603Z",
     "iopub.status.idle": "2024-07-08T13:41:10.153995Z",
     "shell.execute_reply": "2024-07-08T13:41:10.153245Z",
     "shell.execute_reply.started": "2024-07-08T13:41:08.912105Z"
    },
    "jupyter": {
     "outputs_hidden": false
    }
   },
   "outputs": [
    {
     "name": "stdout",
     "output_type": "stream",
     "text": [
      "Requirement already satisfied: nest_asyncio in /usr/local/lib/python3.10/dist-packages (1.6.0)\n",
      "\u001b[33mWARNING: Running pip as the 'root' user can result in broken permissions and conflicting behaviour with the system package manager. It is recommended to use a virtual environment instead: https://pip.pypa.io/warnings/venv\u001b[0m\u001b[33m\n",
      "\u001b[0m\n",
      "\u001b[1m[\u001b[0m\u001b[34;49mnotice\u001b[0m\u001b[1;39;49m]\u001b[0m\u001b[39;49m A new release of pip is available: \u001b[0m\u001b[31;49m24.0\u001b[0m\u001b[39;49m -> \u001b[0m\u001b[32;49m24.1.1\u001b[0m\n",
      "\u001b[1m[\u001b[0m\u001b[34;49mnotice\u001b[0m\u001b[1;39;49m]\u001b[0m\u001b[39;49m To update, run: \u001b[0m\u001b[32;49mpython3 -m pip install --upgrade pip\u001b[0m\n"
     ]
    }
   ],
   "source": [
    "# 允许嵌套事件循环\n",
    "!pip install nest_asyncio"
   ]
  },
  {
   "cell_type": "code",
   "execution_count": 3,
   "id": "244368f1-fa3f-4dd9-a87a-623785e2b15c",
   "metadata": {
    "execution": {
     "iopub.execute_input": "2024-07-09T14:46:15.141909Z",
     "iopub.status.busy": "2024-07-09T14:46:15.141246Z",
     "iopub.status.idle": "2024-07-09T14:46:29.762111Z",
     "shell.execute_reply": "2024-07-09T14:46:29.760890Z",
     "shell.execute_reply.started": "2024-07-09T14:46:15.141871Z"
    }
   },
   "outputs": [
    {
     "name": "stdout",
     "output_type": "stream",
     "text": [
      "Page title is: Google\n"
     ]
    }
   ],
   "source": [
    "from playwright.async_api import async_playwright\n",
    "import nest_asyncio\n",
    "\n",
    "nest_asyncio.apply()\n",
    "\n",
    "async def run():\n",
    "    async with async_playwright() as p:\n",
    "        browser = await p.chromium.launch(headless=True)  \n",
    "        page = await browser.new_page()\n",
    "        await page.goto('https://www.google.com/')\n",
    "\n",
    "        title = await page.title()\n",
    "        print(f\"Page title is: {title}\")\n",
    "        await browser.close()\n",
    "\n",
    "await run()"
   ]
  },
  {
   "cell_type": "markdown",
   "id": "4c2436f5-7d25-49c4-b914-c1626d88c881",
   "metadata": {},
   "source": [
    "# 使用结构化工具对话代理"
   ]
  },
  {
   "cell_type": "code",
   "execution_count": 15,
   "id": "f7f80d5f-c335-46cf-b8ee-3f66def2b066",
   "metadata": {
    "execution": {
     "iopub.execute_input": "2024-07-09T15:11:42.154720Z",
     "iopub.status.busy": "2024-07-09T15:11:42.153985Z",
     "iopub.status.idle": "2024-07-09T15:11:45.510691Z",
     "shell.execute_reply": "2024-07-09T15:11:45.509088Z",
     "shell.execute_reply.started": "2024-07-09T15:11:42.154689Z"
    },
    "scrolled": true
   },
   "outputs": [
    {
     "name": "stdout",
     "output_type": "stream",
     "text": [
      "Requirement already satisfied: langchain-community in /usr/local/lib/python3.10/dist-packages (0.2.7)\n",
      "Requirement already satisfied: langchain_openai in /usr/local/lib/python3.10/dist-packages (0.1.14)\n",
      "Requirement already satisfied: PyYAML>=5.3 in /usr/local/lib/python3.10/dist-packages (from langchain-community) (6.0.1)\n",
      "Requirement already satisfied: SQLAlchemy<3,>=1.4 in /usr/local/lib/python3.10/dist-packages (from langchain-community) (2.0.31)\n",
      "Requirement already satisfied: aiohttp<4.0.0,>=3.8.3 in /usr/local/lib/python3.10/dist-packages (from langchain-community) (3.9.5)\n",
      "Requirement already satisfied: dataclasses-json<0.7,>=0.5.7 in /usr/local/lib/python3.10/dist-packages (from langchain-community) (0.6.7)\n",
      "Requirement already satisfied: langchain<0.3.0,>=0.2.7 in /usr/local/lib/python3.10/dist-packages (from langchain-community) (0.2.7)\n",
      "Requirement already satisfied: langchain-core<0.3.0,>=0.2.12 in /usr/local/lib/python3.10/dist-packages (from langchain-community) (0.2.12)\n",
      "Requirement already satisfied: langsmith<0.2.0,>=0.1.0 in /usr/local/lib/python3.10/dist-packages (from langchain-community) (0.1.84)\n",
      "Requirement already satisfied: numpy<2,>=1 in /usr/local/lib/python3.10/dist-packages (from langchain-community) (1.26.4)\n",
      "Requirement already satisfied: requests<3,>=2 in /usr/local/lib/python3.10/dist-packages (from langchain-community) (2.31.0)\n",
      "Requirement already satisfied: tenacity!=8.4.0,<9.0.0,>=8.1.0 in /usr/local/lib/python3.10/dist-packages (from langchain-community) (8.5.0)\n",
      "Requirement already satisfied: openai<2.0.0,>=1.32.0 in /usr/local/lib/python3.10/dist-packages (from langchain_openai) (1.35.10)\n",
      "Requirement already satisfied: tiktoken<1,>=0.7 in /usr/local/lib/python3.10/dist-packages (from langchain_openai) (0.7.0)\n",
      "Requirement already satisfied: aiosignal>=1.1.2 in /usr/local/lib/python3.10/dist-packages (from aiohttp<4.0.0,>=3.8.3->langchain-community) (1.3.1)\n",
      "Requirement already satisfied: attrs>=17.3.0 in /usr/local/lib/python3.10/dist-packages (from aiohttp<4.0.0,>=3.8.3->langchain-community) (23.2.0)\n",
      "Requirement already satisfied: frozenlist>=1.1.1 in /usr/local/lib/python3.10/dist-packages (from aiohttp<4.0.0,>=3.8.3->langchain-community) (1.4.1)\n",
      "Requirement already satisfied: multidict<7.0,>=4.5 in /usr/local/lib/python3.10/dist-packages (from aiohttp<4.0.0,>=3.8.3->langchain-community) (6.0.5)\n",
      "Requirement already satisfied: yarl<2.0,>=1.0 in /usr/local/lib/python3.10/dist-packages (from aiohttp<4.0.0,>=3.8.3->langchain-community) (1.9.4)\n",
      "Requirement already satisfied: async-timeout<5.0,>=4.0 in /usr/local/lib/python3.10/dist-packages (from aiohttp<4.0.0,>=3.8.3->langchain-community) (4.0.3)\n",
      "Requirement already satisfied: marshmallow<4.0.0,>=3.18.0 in /usr/local/lib/python3.10/dist-packages (from dataclasses-json<0.7,>=0.5.7->langchain-community) (3.21.3)\n",
      "Requirement already satisfied: typing-inspect<1,>=0.4.0 in /usr/local/lib/python3.10/dist-packages (from dataclasses-json<0.7,>=0.5.7->langchain-community) (0.9.0)\n",
      "Requirement already satisfied: langchain-text-splitters<0.3.0,>=0.2.0 in /usr/local/lib/python3.10/dist-packages (from langchain<0.3.0,>=0.2.7->langchain-community) (0.2.2)\n",
      "Requirement already satisfied: pydantic<3,>=1 in /usr/local/lib/python3.10/dist-packages (from langchain<0.3.0,>=0.2.7->langchain-community) (2.8.2)\n",
      "Requirement already satisfied: jsonpatch<2.0,>=1.33 in /usr/local/lib/python3.10/dist-packages (from langchain-core<0.3.0,>=0.2.12->langchain-community) (1.33)\n",
      "Requirement already satisfied: packaging<25,>=23.2 in /usr/local/lib/python3.10/dist-packages (from langchain-core<0.3.0,>=0.2.12->langchain-community) (24.0)\n",
      "Requirement already satisfied: orjson<4.0.0,>=3.9.14 in /usr/local/lib/python3.10/dist-packages (from langsmith<0.2.0,>=0.1.0->langchain-community) (3.10.6)\n",
      "Requirement already satisfied: anyio<5,>=3.5.0 in /usr/local/lib/python3.10/dist-packages (from openai<2.0.0,>=1.32.0->langchain_openai) (4.3.0)\n",
      "Requirement already satisfied: distro<2,>=1.7.0 in /usr/local/lib/python3.10/dist-packages (from openai<2.0.0,>=1.32.0->langchain_openai) (1.9.0)\n",
      "Requirement already satisfied: httpx<1,>=0.23.0 in /usr/local/lib/python3.10/dist-packages (from openai<2.0.0,>=1.32.0->langchain_openai) (0.27.0)\n",
      "Requirement already satisfied: sniffio in /usr/local/lib/python3.10/dist-packages (from openai<2.0.0,>=1.32.0->langchain_openai) (1.3.1)\n",
      "Requirement already satisfied: tqdm>4 in /usr/local/lib/python3.10/dist-packages (from openai<2.0.0,>=1.32.0->langchain_openai) (4.66.4)\n",
      "Requirement already satisfied: typing-extensions<5,>=4.7 in /usr/local/lib/python3.10/dist-packages (from openai<2.0.0,>=1.32.0->langchain_openai) (4.11.0)\n",
      "Requirement already satisfied: charset-normalizer<4,>=2 in /usr/local/lib/python3.10/dist-packages (from requests<3,>=2->langchain-community) (3.3.2)\n",
      "Requirement already satisfied: idna<4,>=2.5 in /usr/local/lib/python3.10/dist-packages (from requests<3,>=2->langchain-community) (3.7)\n",
      "Requirement already satisfied: urllib3<3,>=1.21.1 in /usr/local/lib/python3.10/dist-packages (from requests<3,>=2->langchain-community) (2.2.1)\n",
      "Requirement already satisfied: certifi>=2017.4.17 in /usr/local/lib/python3.10/dist-packages (from requests<3,>=2->langchain-community) (2024.2.2)\n",
      "Requirement already satisfied: greenlet!=0.4.17 in /usr/local/lib/python3.10/dist-packages (from SQLAlchemy<3,>=1.4->langchain-community) (3.0.3)\n",
      "Requirement already satisfied: regex>=2022.1.18 in /usr/local/lib/python3.10/dist-packages (from tiktoken<1,>=0.7->langchain_openai) (2024.5.15)\n",
      "Requirement already satisfied: exceptiongroup>=1.0.2 in /usr/local/lib/python3.10/dist-packages (from anyio<5,>=3.5.0->openai<2.0.0,>=1.32.0->langchain_openai) (1.2.1)\n",
      "Requirement already satisfied: httpcore==1.* in /usr/local/lib/python3.10/dist-packages (from httpx<1,>=0.23.0->openai<2.0.0,>=1.32.0->langchain_openai) (1.0.5)\n",
      "Requirement already satisfied: h11<0.15,>=0.13 in /usr/local/lib/python3.10/dist-packages (from httpcore==1.*->httpx<1,>=0.23.0->openai<2.0.0,>=1.32.0->langchain_openai) (0.14.0)\n",
      "Requirement already satisfied: jsonpointer>=1.9 in /usr/local/lib/python3.10/dist-packages (from jsonpatch<2.0,>=1.33->langchain-core<0.3.0,>=0.2.12->langchain-community) (2.4)\n",
      "Requirement already satisfied: annotated-types>=0.4.0 in /usr/local/lib/python3.10/dist-packages (from pydantic<3,>=1->langchain<0.3.0,>=0.2.7->langchain-community) (0.7.0)\n",
      "Requirement already satisfied: pydantic-core==2.20.1 in /usr/local/lib/python3.10/dist-packages (from pydantic<3,>=1->langchain<0.3.0,>=0.2.7->langchain-community) (2.20.1)\n",
      "Requirement already satisfied: mypy-extensions>=0.3.0 in /usr/local/lib/python3.10/dist-packages (from typing-inspect<1,>=0.4.0->dataclasses-json<0.7,>=0.5.7->langchain-community) (1.0.0)\n",
      "\u001b[33mWARNING: Running pip as the 'root' user can result in broken permissions and conflicting behaviour with the system package manager. It is recommended to use a virtual environment instead: https://pip.pypa.io/warnings/venv\u001b[0m\u001b[33m\n",
      "\u001b[0m\n",
      "\u001b[1m[\u001b[0m\u001b[34;49mnotice\u001b[0m\u001b[1;39;49m]\u001b[0m\u001b[39;49m A new release of pip is available: \u001b[0m\u001b[31;49m24.0\u001b[0m\u001b[39;49m -> \u001b[0m\u001b[32;49m24.1.1\u001b[0m\n",
      "\u001b[1m[\u001b[0m\u001b[34;49mnotice\u001b[0m\u001b[1;39;49m]\u001b[0m\u001b[39;49m To update, run: \u001b[0m\u001b[32;49mpython3 -m pip install --upgrade pip\u001b[0m\n"
     ]
    }
   ],
   "source": [
    "!pip install -U langchain-community langchain_openai"
   ]
  },
  {
   "cell_type": "code",
   "execution_count": 6,
   "id": "45999558-bc8d-4fb2-a3e7-fcb529b23463",
   "metadata": {
    "execution": {
     "iopub.execute_input": "2024-07-09T15:21:32.170928Z",
     "iopub.status.busy": "2024-07-09T15:21:32.170237Z",
     "iopub.status.idle": "2024-07-09T15:21:32.175647Z",
     "shell.execute_reply": "2024-07-09T15:21:32.174720Z",
     "shell.execute_reply.started": "2024-07-09T15:21:32.170904Z"
    }
   },
   "outputs": [],
   "source": [
    "model_name=\"gpt-4o-ca\""
   ]
  },
  {
   "cell_type": "markdown",
   "id": "ca059250-c2b2-4295-b53c-72e07cbb16b8",
   "metadata": {},
   "source": [
    "## initialize_agent 版"
   ]
  },
  {
   "cell_type": "code",
   "execution_count": 12,
   "id": "b81cac40-f871-4496-9c4f-797dc284d8bc",
   "metadata": {
    "execution": {
     "iopub.execute_input": "2024-07-09T14:40:24.019106Z",
     "iopub.status.busy": "2024-07-09T14:40:24.018763Z",
     "iopub.status.idle": "2024-07-09T14:41:08.162230Z",
     "shell.execute_reply": "2024-07-09T14:41:08.161342Z",
     "shell.execute_reply.started": "2024-07-09T14:40:24.019081Z"
    }
   },
   "outputs": [
    {
     "name": "stdout",
     "output_type": "stream",
     "text": [
      "\n",
      "\n",
      "\u001b[1m> Entering new AgentExecutor chain...\u001b[0m\n",
      "\u001b[32;1m\u001b[1;3mAction:\n",
      "```\n",
      "{\n",
      "  \"action\": \"navigate_browser\",\n",
      "  \"action_input\": \"https://www.langchain.com\"\n",
      "}\n",
      "```\u001b[0m\n",
      "Observation: \u001b[33;1m\u001b[1;3mNavigating to https://www.langchain.com returned status code 200\u001b[0m\n",
      "Thought:\u001b[32;1m\u001b[1;3mAction:\n",
      "```\n",
      "{\n",
      "  \"action\": \"get_elements\",\n",
      "  \"action_input\": {\n",
      "    \"selector\": \"h1, h2, h3, h4, h5, h6\",\n",
      "    \"attributes\": [\"innerText\"]\n",
      "  }\n",
      "}\n",
      "```\u001b[0m\n",
      "Observation: \u001b[33;1m\u001b[1;3m[{\"innerText\": \"Applications that can reason. Powered by LangChain.\"}, {\"innerText\": \"From startups to global enterprises,\\nambitious builders choose\\nLangChain products.\"}, {\"innerText\": \"Build your app with LangChain\"}, {\"innerText\": \"Run at scale with LangGraph Cloud\"}, {\"innerText\": \"Manage LLM performance with LangSmith\"}, {\"innerText\": \"Hear from our happy customers\"}, {\"innerText\": \"The reference architecture enterprises adopt for success.\"}, {\"innerText\": \"The biggest developer community in GenAI\"}, {\"innerText\": \"Get started with the LangSmith platform today\"}, {\"innerText\": \"Get inspired by companies who have done it.\"}, {\"innerText\": \"LangSmith is the enterprise DevOps platform built for LLMs.\"}, {\"innerText\": \"Ready to start shipping  ",
      "reliable GenAI apps faster?\"}]\u001b[0m\n",
      "Thought:\u001b[32;1m\u001b[1;3mThe headers on langchain.com are:\n",
      "\n",
      "1. Applications that can reason. Powered by LangChain.\n",
      "2. From startups to global enterprises, ambitious builders choose LangChain products.\n",
      "3. Build your app with LangChain\n",
      "4. Run at scale with LangGraph Cloud\n",
      "5. Manage LLM performance with LangSmith\n",
      "6. Hear from our happy customers\n",
      "7. The reference architecture enterprises adopt for success.\n",
      "8. The biggest developer community in GenAI\n",
      "9. Get started with the LangSmith platform today\n",
      "10. Get inspired by companies who have done it.\n",
      "11. LangSmith is the enterprise DevOps platform built for LLMs.\n",
      "12. Ready to start shipping reliable GenAI apps faster?\n",
      "\n",
      "These headers provide an overview of the key features and benefits of using LangChain's products and services.\u001b[0m\n",
      "\n",
      "\u001b[1m> Finished chain.\u001b[0m\n",
      "The headers on langchain.com are:\n",
      "\n",
      "1. Applications that can reason. Powered by LangChain.\n",
      "2. From startups to global enterprises, ambitious builders choose LangChain products.\n",
      "3. Build your app with LangChain\n",
      "4. Run at scale with LangGraph Cloud\n",
      "5. Manage LLM performance with LangSmith\n",
      "6. Hear from our happy customers\n",
      "7. The reference architecture enterprises adopt for success.\n",
      "8. The biggest developer community in GenAI\n",
      "9. Get started with the LangSmith platform today\n",
      "10. Get inspired by companies who have done it.\n",
      "11. LangSmith is the enterprise DevOps platform built for LLMs.\n",
      "12. Ready to start shipping reliable GenAI apps faster?\n",
      "\n",
      "These headers provide an overview of the key features and benefits of using LangChain's products and services.\n"
     ]
    }
   ],
   "source": [
    "from langchain_community.agent_toolkits import PlayWrightBrowserToolkit\n",
    "from langchain_community.tools.playwright.utils import (\n",
    "    create_async_playwright_browser,  # A synchronous browser is available, though it isn't compatible with jupyter.\\n\",      },\n",
    ")\n",
    "import nest_asyncio\n",
    "\n",
    "nest_asyncio.apply()\n",
    "async_browser = create_async_playwright_browser()\n",
    "toolkit = PlayWrightBrowserToolkit.from_browser(async_browser=async_browser)\n",
    "tools = toolkit.get_tools()\n",
    "\n",
    "from langchain.agents import AgentType, initialize_agent\n",
    "from langchain_openai import ChatOpenAI\n",
    "\n",
    "llm = ChatOpenAI(model_name=model_name, temperature=0.5)\n",
    "agent_chain = initialize_agent(\n",
    "    tools,\n",
    "    llm,\n",
    "    agent=AgentType.STRUCTURED_CHAT_ZERO_SHOT_REACT_DESCRIPTION,\n",
    "    verbose=True,\n",
    ")\n",
    "result = await agent_chain.arun(\"What are the headers on langchain.com?\")\n",
    "print(result)"
   ]
  },
  {
   "cell_type": "markdown",
   "id": "d2ec02d0-1511-4ca1-9c59-1aa670abd394",
   "metadata": {},
   "source": [
    "## create_structured_chat_agent 版"
   ]
  },
  {
   "cell_type": "code",
   "execution_count": 17,
   "id": "8d2acfff-81bc-42fb-8886-e16a8b061b2a",
   "metadata": {
    "execution": {
     "iopub.execute_input": "2024-07-09T15:12:26.186889Z",
     "iopub.status.busy": "2024-07-09T15:12:26.186547Z",
     "iopub.status.idle": "2024-07-09T15:12:29.888605Z",
     "shell.execute_reply": "2024-07-09T15:12:29.887403Z",
     "shell.execute_reply.started": "2024-07-09T15:12:26.186864Z"
    }
   },
   "outputs": [
    {
     "name": "stdout",
     "output_type": "stream",
     "text": [
      "Requirement already satisfied: langchainhub in /usr/local/lib/python3.10/dist-packages (0.1.20)\n",
      "Requirement already satisfied: packaging<25,>=23.2 in /usr/local/lib/python3.10/dist-packages (from langchainhub) (24.0)\n",
      "Requirement already satisfied: requests<3,>=2 in /usr/local/lib/python3.10/dist-packages (from langchainhub) (2.31.0)\n",
      "Requirement already satisfied: types-requests<3.0.0.0,>=2.31.0.2 in /usr/local/lib/python3.10/dist-packages (from langchainhub) (2.32.0.20240622)\n",
      "Requirement already satisfied: charset-normalizer<4,>=2 in /usr/local/lib/python3.10/dist-packages (from requests<3,>=2->langchainhub) (3.3.2)\n",
      "Requirement already satisfied: idna<4,>=2.5 in /usr/local/lib/python3.10/dist-packages (from requests<3,>=2->langchainhub) (3.7)\n",
      "Requirement already satisfied: urllib3<3,>=1.21.1 in /usr/local/lib/python3.10/dist-packages (from requests<3,>=2->langchainhub) (2.2.1)\n",
      "Requirement already satisfied: certifi>=2017.4.17 in /usr/local/lib/python3.10/dist-packages (from requests<3,>=2->langchainhub) (2024.2.2)\n",
      "\u001b[33mWARNING: Running pip as the 'root' user can result in broken permissions and conflicting behaviour with the system package manager. It is recommended to use a virtual environment instead: https://pip.pypa.io/warnings/venv\u001b[0m\u001b[33m\n",
      "\u001b[0m\n",
      "\u001b[1m[\u001b[0m\u001b[34;49mnotice\u001b[0m\u001b[1;39;49m]\u001b[0m\u001b[39;49m A new release of pip is available: \u001b[0m\u001b[31;49m24.0\u001b[0m\u001b[39;49m -> \u001b[0m\u001b[32;49m24.1.1\u001b[0m\n",
      "\u001b[1m[\u001b[0m\u001b[34;49mnotice\u001b[0m\u001b[1;39;49m]\u001b[0m\u001b[39;49m To update, run: \u001b[0m\u001b[32;49mpython3 -m pip install --upgrade pip\u001b[0m\n",
      "Requirement already satisfied: lxml in /usr/local/lib/python3.10/dist-packages (5.2.2)\n",
      "\u001b[33mWARNING: Running pip as the 'root' user can result in broken permissions and conflicting behaviour with the system package manager. It is recommended to use a virtual environment instead: https://pip.pypa.io/warnings/venv\u001b[0m\u001b[33m\n",
      "\u001b[0m\n",
      "\u001b[1m[\u001b[0m\u001b[34;49mnotice\u001b[0m\u001b[1;39;49m]\u001b[0m\u001b[39;49m A new release of pip is available: \u001b[0m\u001b[31;49m24.0\u001b[0m\u001b[39;49m -> \u001b[0m\u001b[32;49m24.1.1\u001b[0m\n",
      "\u001b[1m[\u001b[0m\u001b[34;49mnotice\u001b[0m\u001b[1;39;49m]\u001b[0m\u001b[39;49m To update, run: \u001b[0m\u001b[32;49mpython3 -m pip install --upgrade pip\u001b[0m\n"
     ]
    }
   ],
   "source": [
    "!pip install langchainhub\n",
    "!pip install lxml beautifulsoup4"
   ]
  },
  {
   "cell_type": "code",
   "execution_count": 7,
   "id": "9c830b91-25c2-42e1-9e04-87191755fa2a",
   "metadata": {
    "execution": {
     "iopub.execute_input": "2024-07-09T15:21:35.398551Z",
     "iopub.status.busy": "2024-07-09T15:21:35.398243Z",
     "iopub.status.idle": "2024-07-09T15:22:18.317577Z",
     "shell.execute_reply": "2024-07-09T15:22:18.316511Z",
     "shell.execute_reply.started": "2024-07-09T15:21:35.398529Z"
    }
   },
   "outputs": [
    {
     "name": "stdout",
     "output_type": "stream",
     "text": [
      "\n",
      "\n",
      "\u001b[1m> Entering new AgentExecutor chain...\u001b[0m\n",
      "\u001b[32;1m\u001b[1;3m{\n",
      "  \"action\": \"navigate_browser\",\n",
      "  \"action_input\": {\n",
      "    \"url\": \"https://langchain.com\"\n",
      "  }\n",
      "}\u001b[0m\u001b[33;1m\u001b[1;3mNavigating to https://langchain.com returned status code 200\u001b[0m\u001b[32;1m\u001b[1;3m{\n",
      "  \"action\": \"extract_text\",\n",
      "  \"action_input\": {}\n",
      "}\u001b[0m\u001b[31;1m\u001b[1;3mLangChain We value your privacy We use cookies to analyze our traffic. By clicking \"Accept All\", you consent to our use of cookies. Privacy Policy Customize Reject All Accept All Customize Consent Preferences We may use cookies to help you navigate efficiently and perform certain functions. You will find detailed information about all cookies under each consent category below. The cookies that are categorized as \"Necessary\" are stored on your browser as they are essential for enabling the basic functionalities of the site.... Show more Necessary Always Active Necessary cookies are required to enable the basic features of this site, such as providing secure log-in or adjusting your consent preferences. These cookies do not store any personally identifiable data. Functional Functional cookies help perform certain functionalities like sharing the content of the website on social media platforms, collecting feedback, and other third-party features. Analytics Analytical cookies are used to understand how visitors interact with the website. These cookies help provide information on metrics such as the number of visitors, bounce rate, traffic source, etc. Performance Performance cookies are used to understand and analyze the key performance indexes of the website which helps in delivering a better user experience for the visitors. Advertisement Advertisement cookies are used to provide visitors with customized advertisements based on the pages you visited previously and to analyze the effectiveness of the ad campaigns. Uncategorized Other uncategorized cookies are those that are being analyzed and have not been classified into a category as yet. Reject All Save My Preferences Accept All Products LangChain LangSmith LangGraph Methods Retrieval Agents Evaluation Resources Developer Resources Templates Integrations Company Resources Blog Case Studies Use Case Inspiration Experts LangSmith Trust Portal Docs LangChain Docs LangSmith Docs Pricing Company About Careers Get a demo Sign up LangChain’s suite of products supports developers along each step of the LLM application lifecycle. Applications that can reason. Powered by LangChain. Get a demo Sign up for free From startups to global enterprises, ambitious builders choose LangChain products. Build LangChain is a framework to build with LLMs by chaining interoperable components. LangGraph is the framework for building controllable agentic workflows. Run Deploy your LLM applications at scale with LangGraph Cloud, our infrastructure purpose-built for agents. Manage Debug, collaborate, test, and monitor your LLM app in LangSmith - whether it's built with a LangChain framework or not. Build your app with LangChain Build context-aware, reasoning applications with LangChain’s flexible framework that leverages your company’s data and APIs. Future-proof your application by making vendor optionality part of your LLM infrastructure design. Learn more about LangChain Run at scale with LangGraph Cloud Deploy your LangGraph app with LangGraph Cloud for fault-tolerant scalability - including support for async background jobs, built-in persistence, and distributed task queues. Learn more about LangGraph Manage LLM performance with LangSmith Ship faster with LangSmith’s debug, test, deploy, and monitoring workflows. Don’t rely on “vibes” – add engineering rigor to your LLM-development workflow, whether you’re building with LangChain or not. Learn more about LangSmith Hear from our happy customers LangChain, LangGraph, and LangSmith help teams of all sizes, across all industries - from ambitious startups to established enterprises. “LangSmith helped us improve the accuracy and performance of Retool’s fine-tuned models. Not only did we deliver a better product by iterating with LangSmith, but we’re shipping new AI features to our users in a fraction of the time it would have taken without it.” Jamie Cuffe Head of Self-Serve and New Products “By combining the benefits of LangSmith and standing on the shoulders of a gigantic open-source community, we’re able to identify the right approaches of using LLMs in an enterprise-setting faster.” Yusuke Kaji General Manager of AI “Working with LangChain and LangSmith on the Elastic AI Assistant had a significant positive impact on the overall pace and quality of the development and shipping experience. We couldn’t have achieved  the product experience delivered to our customers without LangChain, and we couldn’t have done it at the same pace without LangSmith.” James Spiteri Director of Security Products “As soon as we heard about LangSmith, we moved our entire development stack onto it. We could have built evaluation, testing and monitoring tools in house, but with LangSmith it took us 10x less time to get a 1000x better tool.” Jose Peña Senior Manager The reference architecture enterprises adopt for success. LangChain’s suite of products can be used independently or stacked together for multiplicative impact – guiding you through building, running, and managing your LLM apps. 15M+ Monthly Downloads 100K+ Apps Powered 75K+ GitHub Stars 2K+ Contributors The biggest developer community in GenAI Learn alongside the 1M+ developers who are pushing the industry forward. Explore LangChain Get started with the LangSmith platform today Get a demo Sign up for free Teams building with LangChain are driving operational efficiency, increasing discovery & personalization, and delivering premium products that generate revenue. Discover Use Cases Get inspired by companies who have done it. Financial Services FinTech Technology LangSmith is the enterprise DevOps platform built for LLMs. Explore LangSmith Gain visibility to make trade offs between cost, latency, and quality. Increase developer productivity. Eliminate manual, error-prone testing. Reduce hallucinations and improve reliability. Enterprise deployment options to keep data secure. Ready to start shipping  ",
      "reliable GenAI apps faster? Get started with LangChain, LangGraph, and LangSmith to enhance your LLM app development, from prototype to production. Get a demo Sign up for free Products LangChain LangSmith LangGraph Agents Evaluation Retrieval Resources Python Docs JS/TS Docs GitHub Integrations Templates LangChain Quickstart LangChain.js Quickstart Company About Blog Twitter LinkedIn YouTube Community Marketing Assets Sign up for our newsletter to stay up to date Thank you! Your submission has been received! Oops! Something went wrong while submitting the form. All systems operational Privacy Policy Terms of Service\u001b[0m\u001b[32;1m\u001b[1;3m{\n",
      "  \"action\": \"get_elements\",\n",
      "  \"action_input\": {\n",
      "    \"selector\": \"h1, h2, h3, h4, h5, h6\",\n",
      "    \"attributes\": [\"innerText\"]\n",
      "  }\n",
      "}\u001b[0m\u001b[33;1m\u001b[1;3m[{\"innerText\": \"Applications that can reason. Powered by LangChain.\"}, {\"innerText\": \"From startups to global enterprises,\\nambitious builders choose\\nLangChain products.\"}, {\"innerText\": \"Build your app with LangChain\"}, {\"innerText\": \"Run at scale with LangGraph Cloud\"}, {\"innerText\": \"Manage LLM performance with LangSmith\"}, {\"innerText\": \"Hear from our happy customers\"}, {\"innerText\": \"The reference architecture enterprises adopt for success.\"}, {\"innerText\": \"The biggest developer community in GenAI\"}, {\"innerText\": \"Get started with the LangSmith platform today\"}, {\"innerText\": \"Get inspired by companies who have done it.\"}, {\"innerText\": \"LangSmith is the enterprise DevOps platform built for LLMs.\"}, {\"innerText\": \"Ready to start shipping  ",
      "reliable GenAI apps faster?\"}]\u001b[0m\u001b[32;1m\u001b[1;3m{\n",
      "  \"action\": \"Final Answer\",\n",
      "  \"action_input\": \"The headers on langchain.com are:\\n\\n1. Applications that can reason. Powered by LangChain.\\n2. From startups to global enterprises, ambitious builders choose LangChain products.\\n3. Build your app with LangChain\\n4. Run at scale with LangGraph Cloud\\n5. Manage LLM performance with LangSmith\\n6. Hear from our happy customers\\n7. The reference architecture enterprises adopt for success.\\n8. The biggest developer community in GenAI\\n9. Get started with the LangSmith platform today\\n10. Get inspired by companies who have done it.\\n11. LangSmith is the enterprise DevOps platform built for LLMs.\\n12. Ready to start shipping reliable GenAI apps faster?\"\n",
      "}\u001b[0m\n",
      "\n",
      "\u001b[1m> Finished chain.\u001b[0m\n",
      "{'input': 'What are the headers on langchain.com?', 'output': 'The headers on langchain.com are:\\n\\n1. Applications that can reason. Powered by LangChain.\\n2. From startups to global enterprises, ambitious builders choose LangChain products.\\n3. Build your app with LangChain\\n4. Run at scale with LangGraph Cloud\\n5. Manage LLM performance with LangSmith\\n6. Hear from our happy customers\\n7. The reference architecture enterprises adopt for success.\\n8. The biggest developer community in GenAI\\n9. Get started with the LangSmith platform today\\n10. Get inspired by companies who have done it.\\n11. LangSmith is the enterprise DevOps platform built for LLMs.\\n12. Ready to start shipping reliable GenAI apps faster?'}\n"
     ]
    }
   ],
   "source": [
    "from langchain_community.agent_toolkits import PlayWrightBrowserToolkit\n",
    "from langchain_community.tools.playwright.utils import (\n",
    "    create_async_playwright_browser,  # A synchronous browser is available, though it isn't compatible with jupyter.\\n\",      },\n",
    ")\n",
    "import nest_asyncio\n",
    "\n",
    "nest_asyncio.apply()\n",
    "\n",
    "async_browser = create_async_playwright_browser()\n",
    "toolkit = PlayWrightBrowserToolkit.from_browser(async_browser=async_browser)\n",
    "tools = toolkit.get_tools()\n",
    "\n",
    "from langchain import hub\n",
    "from langchain.agents import AgentExecutor, create_structured_chat_agent\n",
    "from langchain_openai import ChatOpenAI\n",
    "\n",
    "llm = ChatOpenAI(model_name=model_name, temperature=0.5)\n",
    "prompt = hub.pull(\"hwchase17/structured-chat-agent\")\n",
    "agent = create_structured_chat_agent(llm, tools, prompt)\n",
    "\n",
    "agent_executor = AgentExecutor(\n",
    "    agent=agent, tools=tools, verbose=True, handle_parsing_errors=True, \n",
    ")\n",
    "\n",
    "result = await agent_executor.ainvoke({\"input\":\"What are the headers on langchain.com?\"})\n",
    "print(result)"
   ]
  },
  {
   "cell_type": "markdown",
   "id": "b183d072-f2ca-48b5-aed8-1c65e003daa9",
   "metadata": {},
   "source": [
    "# 使用 Self-Ask with Search 代理"
   ]
  },
  {
   "cell_type": "code",
   "execution_count": 5,
   "id": "c26a92ce-a447-4bd1-ab68-8d43429b4e13",
   "metadata": {
    "execution": {
     "iopub.execute_input": "2024-07-09T14:55:04.817988Z",
     "iopub.status.busy": "2024-07-09T14:55:04.816944Z",
     "iopub.status.idle": "2024-07-09T14:55:12.117557Z",
     "shell.execute_reply": "2024-07-09T14:55:12.116685Z",
     "shell.execute_reply.started": "2024-07-09T14:55:04.817952Z"
    }
   },
   "outputs": [
    {
     "name": "stdout",
     "output_type": "stream",
     "text": [
      "Collecting google-search-results\n",
      "  Downloading google_search_results-2.4.2.tar.gz (18 kB)\n",
      "  Preparing metadata (setup.py) ... \u001b[?25ldone\n",
      "\u001b[?25hRequirement already satisfied: requests in /usr/local/lib/python3.10/dist-packages (from google-search-results) (2.31.0)\n",
      "Requirement already satisfied: charset-normalizer<4,>=2 in /usr/local/lib/python3.10/dist-packages (from requests->google-search-results) (3.3.2)\n",
      "Requirement already satisfied: idna<4,>=2.5 in /usr/local/lib/python3.10/dist-packages (from requests->google-search-results) (3.7)\n",
      "Requirement already satisfied: urllib3<3,>=1.21.1 in /usr/local/lib/python3.10/dist-packages (from requests->google-search-results) (2.2.1)\n",
      "Requirement already satisfied: certifi>=2017.4.17 in /usr/local/lib/python3.10/dist-packages (from requests->google-search-results) (2024.2.2)\n",
      "Building wheels for collected packages: google-search-results\n",
      "  Building wheel for google-search-results (setup.py) ... \u001b[?25ldone\n",
      "\u001b[?25h  Created wheel for google-search-results: filename=google_search_results-2.4.2-py3-none-any.whl size=32016 sha256=16fa44fe78c72e8a51d19345cce483a67f2fd251f885fff9377be8aacb2eb72b\n",
      "  Stored in directory: /root/.cache/pip/wheels/d3/b2/c3/03302d12bb44a2cdff3c9371f31b72c0c4e84b8d2285eeac53\n",
      "Successfully built google-search-results\n",
      "Installing collected packages: google-search-results\n",
      "Successfully installed google-search-results-2.4.2\n",
      "\u001b[33mWARNING: Running pip as the 'root' user can result in broken permissions and conflicting behaviour with the system package manager. It is recommended to use a virtual environment instead: https://pip.pypa.io/warnings/venv\u001b[0m\u001b[33m\n",
      "\u001b[0m\n",
      "\u001b[1m[\u001b[0m\u001b[34;49mnotice\u001b[0m\u001b[1;39;49m]\u001b[0m\u001b[39;49m A new release of pip is available: \u001b[0m\u001b[31;49m24.0\u001b[0m\u001b[39;49m -> \u001b[0m\u001b[32;49m24.1.1\u001b[0m\n",
      "\u001b[1m[\u001b[0m\u001b[34;49mnotice\u001b[0m\u001b[1;39;49m]\u001b[0m\u001b[39;49m To update, run: \u001b[0m\u001b[32;49mpython3 -m pip install --upgrade pip\u001b[0m\n"
     ]
    }
   ],
   "source": [
    "!pip install google-search-results"
   ]
  },
  {
   "cell_type": "markdown",
   "id": "886f95cc-d722-47ff-9de1-7bf84c2b17fb",
   "metadata": {},
   "source": [
    "## initialize_agent 版"
   ]
  },
  {
   "cell_type": "code",
   "execution_count": 18,
   "id": "5b0fe049-953f-4ca1-8d6f-e6055f1b85c6",
   "metadata": {
    "execution": {
     "iopub.execute_input": "2024-07-10T15:17:38.609532Z",
     "iopub.status.busy": "2024-07-10T15:17:38.608806Z",
     "iopub.status.idle": "2024-07-10T15:18:14.040487Z",
     "shell.execute_reply": "2024-07-10T15:18:14.039457Z",
     "shell.execute_reply.started": "2024-07-10T15:17:38.609496Z"
    }
   },
   "outputs": [
    {
     "name": "stdout",
     "output_type": "stream",
     "text": [
      "\n",
      "\n",
      "\u001b[1m> Entering new AgentExecutor chain...\u001b[0m\n",
      "\u001b[32;1m\u001b[1;3mYes.\n",
      "\n",
      "Follow up: 哪些国家将玫瑰作为国花?\u001b[0m\n",
      "Intermediate answer: \u001b[36;1m\u001b[1;3m2、美国、英国——玫瑰 美国的国花是山植花玫瑰，英国的国花是玫瑰(月季)，不过也没差多少，红玫瑰象征了爱情，这可能是世界通用的花语。 玫瑰代表的是浪漫，勇气，和平。\u001b[0m\n",
      "\u001b[32;1m\u001b[1;3mFollow up: 美国的首都是哪里？\u001b[0m\n",
      "Intermediate answer: \u001b[36;1m\u001b[1;3mWashington,D.C.\u001b[0m\n",
      "\u001b[32;1m\u001b[1;3mSo the final answer is: Washington, D.C.\u001b[0m\n",
      "\n",
      "\u001b[1m> Finished chain.\u001b[0m\n"
     ]
    },
    {
     "data": {
      "text/plain": [
       "'Washington, D.C.'"
      ]
     },
     "execution_count": 18,
     "metadata": {},
     "output_type": "execute_result"
    }
   ],
   "source": [
    "from langchain import SerpAPIWrapper\n",
    "from langchain.agents import initialize_agent, Tool\n",
    "from langchain.agents import AgentType\n",
    "from langchain_openai import ChatOpenAI\n",
    "\n",
    "llm = ChatOpenAI(model_name=model_name, temperature=0)\n",
    "search = SerpAPIWrapper()\n",
    "tools = [\n",
    "    Tool(\n",
    "        name=\"Intermediate Answer\",\n",
    "        func=search.run,\n",
    "        description=\"useful for when you need to ask with search\",\n",
    "    )\n",
    "]\n",
    "self_ask_with_search = initialize_agent(\n",
    "    tools, llm, agent=AgentType.SELF_ASK_WITH_SEARCH, verbose=True\n",
    ")\n",
    "self_ask_with_search.run(\n",
    "    \"使用玫瑰作为国花的国家的首都是哪里?\"\n",
    ")\n",
    "\n"
   ]
  },
  {
   "cell_type": "markdown",
   "id": "b1b82f34-8fb7-40e1-be38-9fb60a3d414f",
   "metadata": {},
   "source": [
    "## create_structured_chat_agent 版"
   ]
  },
  {
   "cell_type": "code",
   "execution_count": 9,
   "id": "84924fe4-452c-42d8-8d78-9fd4a672c984",
   "metadata": {
    "execution": {
     "iopub.execute_input": "2024-07-09T15:29:12.807484Z",
     "iopub.status.busy": "2024-07-09T15:29:12.807198Z",
     "iopub.status.idle": "2024-07-09T15:29:44.050383Z",
     "shell.execute_reply": "2024-07-09T15:29:44.049347Z",
     "shell.execute_reply.started": "2024-07-09T15:29:12.807463Z"
    }
   },
   "outputs": [
    {
     "name": "stdout",
     "output_type": "stream",
     "text": [
      "\n",
      "\n",
      "\u001b[1m> Entering new AgentExecutor chain...\u001b[0m\n",
      "\u001b[32;1m\u001b[1;3m{\n",
      "  \"action\": \"Intermediate Answer\",\n",
      "  \"action_input\": {\n",
      "    \"query\": \"使用玫瑰作为国花的国家的首都是哪里?\"\n",
      "  }\n",
      "}\u001b[0m\u001b[36;1m\u001b[1;3m['法国是一个鲜花之国，同时也是一个非常浪漫的国家，而它的首都巴黎更是有着“花都”的美誉，在法语中，鸢尾的意思代表着“光明”所以它被誉为法国国花。', '保加利亚被称为“玫瑰的故乡”、“世界玫瑰的首都”，在那里，玫瑰不仅被奉为国花，而且从每年六月份的第一个星期天开始，之后一个月的时间都是该国的玫瑰节。 ... 全世界有7个 ...', '法国是一个鲜花之国，同时也是一个非常浪漫的国家，而它的首都巴黎更是 ... 玫瑰. 美国的国花是山植花玫瑰，英国的国花是玫瑰(月季)，不过也没差 ...', '香根鸢尾：法国是鲜花之国，首都巴黎有“花都”的美誉，鸢尾是法国国花，此外它还是克罗地亚国花。它是美丽的园林观赏植物，根状茎还可提取香料，用于 ...', '很多国家以自己国内特别著名的花作为他们国家的象征，并具有一定的涵意，这种花被称为“国花”。 英国国花---玫瑰（蔷薇、月季） 英国以蔷薇花作为国花，是 ...', '法国是一个鲜花之国，它的首都巴黎有“花都”的美誉，莺尾被视为法兰西王国的国花。 2美国、英国——玫瑰. 美国的国花是山植花玫瑰 ... 国花，作为美丽和幸福永存的象征。', '基督教中，相传耶稣被出卖后，被钉在十字架上，鲜血滴在泥土中，十字架下便生长出玫瑰花。 红玫瑰象征了爱情，这可能是世界通用的花语。相传爱神为了救她 ...', '沙特阿拉伯, Rosa sp. 乌丹玫瑰（蔷薇科）, 海枣树、素方花.', '整个国徽图案是主权独立、统一、不可分割的罗马尼亚民族国家的象征。 【国歌】《三色旗》. 【国花】玫瑰花. 【国石】琥珀. 【重要节日】独立日：5月9日 ...', '英格兰的国花是玫瑰。自玫瑰战争(1455-1485)起，玫瑰即成为英格兰的象征 ... 据说是国为罗马人经常使用薰衣草沐浴。薰衣草不仅可制成花茶，还 ...']\u001b[0m\u001b[32;1m\u001b[1;3m思考后得知，使用玫瑰作为国花的国家包括英国、美国和保加利亚。以下是这些国家的首都：\n",
      "\n",
      "- 英国的首都是伦敦。\n",
      "- 美国的首都是华盛顿哥伦比亚特区（Washington, D.C.）。\n",
      "- 保加利亚的首都是索非亚（Sofia）。\n",
      "\n",
      "其中，保加利亚是最典型的以玫瑰为国花的国家。\n",
      "\n",
      "Action:\n",
      "```\n",
      "{\n",
      "  \"action\": \"Final Answer\",\n",
      "  \"action_input\": \"使用玫瑰作为国花的国家包括保加利亚、英国和美国。其中，保加利亚的首都是索非亚（Sofia）。\"\n",
      "}\n",
      "```\u001b[0m\n",
      "\n",
      "\u001b[1m> Finished chain.\u001b[0m\n",
      "{'input': '使用玫瑰作为国花的国家的首都是哪里?', 'output': '使用玫瑰作为国花的国家包括保加利亚、英国和美国。其中，保加利亚的首都是索非亚（Sofia）。'}\n"
     ]
    }
   ],
   "source": [
    "from langchain_community.utilities import SerpAPIWrapper\n",
    "from langchain_core.tools import Tool\n",
    "\n",
    "search = SerpAPIWrapper()\n",
    "tools = [\n",
    "    Tool(\n",
    "        name = \"Intermediate Answer\",\n",
    "        description=\"useful for when you need to ask with search\",\n",
    "        func=search.run,\n",
    "    )\n",
    "]\n",
    "\n",
    "from langchain_openai import ChatOpenAI\n",
    "\n",
    "llm = ChatOpenAI(model_name=model_name, temperature=0)\n",
    "\n",
    "from langchain import hub\n",
    "from langchain.agents import AgentExecutor, create_structured_chat_agent\n",
    "\n",
    "prompt = hub.pull(\"hwchase17/structured-chat-agent\")\n",
    "agent = create_structured_chat_agent(llm, tools, prompt)\n",
    "\n",
    "agent_executor = AgentExecutor(\n",
    "    agent=agent, tools=tools, verbose=True, handle_parsing_errors=True, \n",
    ")\n",
    "\n",
    "result = agent_executor.invoke({\"input\":\"使用玫瑰作为国花的国家的首都是哪里?\"})\n",
    "print(result)"
   ]
  },
  {
   "cell_type": "markdown",
   "id": "c24305a2-f739-425d-8fbb-fd82768c5e93",
   "metadata": {},
   "source": [
    "# 使用 Plan and execute 代理（实验性质，不可商用）"
   ]
  },
  {
   "cell_type": "code",
   "execution_count": 12,
   "id": "14b88c1c-4d78-4a00-bbb7-9ebe64f8b7e4",
   "metadata": {
    "execution": {
     "iopub.execute_input": "2024-07-10T15:11:35.702079Z",
     "iopub.status.busy": "2024-07-10T15:11:35.701473Z",
     "iopub.status.idle": "2024-07-10T15:11:46.494609Z",
     "shell.execute_reply": "2024-07-10T15:11:46.493439Z",
     "shell.execute_reply.started": "2024-07-10T15:11:35.702046Z"
    },
    "scrolled": true
   },
   "outputs": [
    {
     "name": "stdout",
     "output_type": "stream",
     "text": [
      "Requirement already satisfied: langchain_experimental in /usr/local/lib/python3.10/dist-packages (0.0.62)\n",
      "Requirement already satisfied: langchain-community<0.3.0,>=0.2.6 in /usr/local/lib/python3.10/dist-packages (from langchain_experimental) (0.2.7)\n",
      "Requirement already satisfied: langchain-core<0.3.0,>=0.2.10 in /usr/local/lib/python3.10/dist-packages (from langchain_experimental) (0.2.12)\n",
      "Requirement already satisfied: PyYAML>=5.3 in /usr/local/lib/python3.10/dist-packages (from langchain-community<0.3.0,>=0.2.6->langchain_experimental) (6.0.1)\n",
      "Requirement already satisfied: SQLAlchemy<3,>=1.4 in /usr/local/lib/python3.10/dist-packages (from langchain-community<0.3.0,>=0.2.6->langchain_experimental) (2.0.31)\n",
      "Requirement already satisfied: aiohttp<4.0.0,>=3.8.3 in /usr/local/lib/python3.10/dist-packages (from langchain-community<0.3.0,>=0.2.6->langchain_experimental) (3.9.5)\n",
      "Requirement already satisfied: dataclasses-json<0.7,>=0.5.7 in /usr/local/lib/python3.10/dist-packages (from langchain-community<0.3.0,>=0.2.6->langchain_experimental) (0.6.7)\n",
      "Requirement already satisfied: langchain<0.3.0,>=0.2.7 in /usr/local/lib/python3.10/dist-packages (from langchain-community<0.3.0,>=0.2.6->langchain_experimental) (0.2.7)\n",
      "Requirement already satisfied: langsmith<0.2.0,>=0.1.0 in /usr/local/lib/python3.10/dist-packages (from langchain-community<0.3.0,>=0.2.6->langchain_experimental) (0.1.84)\n",
      "Requirement already satisfied: numpy<2,>=1 in /usr/local/lib/python3.10/dist-packages (from langchain-community<0.3.0,>=0.2.6->langchain_experimental) (1.26.4)\n",
      "Requirement already satisfied: requests<3,>=2 in /usr/local/lib/python3.10/dist-packages (from langchain-community<0.3.0,>=0.2.6->langchain_experimental) (2.31.0)\n",
      "Requirement already satisfied: tenacity!=8.4.0,<9.0.0,>=8.1.0 in /usr/local/lib/python3.10/dist-packages (from langchain-community<0.3.0,>=0.2.6->langchain_experimental) (8.5.0)\n",
      "Requirement already satisfied: jsonpatch<2.0,>=1.33 in /usr/local/lib/python3.10/dist-packages (from langchain-core<0.3.0,>=0.2.10->langchain_experimental) (1.33)\n",
      "Requirement already satisfied: packaging<25,>=23.2 in /usr/local/lib/python3.10/dist-packages (from langchain-core<0.3.0,>=0.2.10->langchain_experimental) (24.0)\n",
      "Requirement already satisfied: pydantic<3,>=1 in /usr/local/lib/python3.10/dist-packages (from langchain-core<0.3.0,>=0.2.10->langchain_experimental) (2.8.2)\n",
      "Requirement already satisfied: aiosignal>=1.1.2 in /usr/local/lib/python3.10/dist-packages (from aiohttp<4.0.0,>=3.8.3->langchain-community<0.3.0,>=0.2.6->langchain_experimental) (1.3.1)\n",
      "Requirement already satisfied: attrs>=17.3.0 in /usr/local/lib/python3.10/dist-packages (from aiohttp<4.0.0,>=3.8.3->langchain-community<0.3.0,>=0.2.6->langchain_experimental) (23.2.0)\n",
      "Requirement already satisfied: frozenlist>=1.1.1 in /usr/local/lib/python3.10/dist-packages (from aiohttp<4.0.0,>=3.8.3->langchain-community<0.3.0,>=0.2.6->langchain_experimental) (1.4.1)\n",
      "Requirement already satisfied: multidict<7.0,>=4.5 in /usr/local/lib/python3.10/dist-packages (from aiohttp<4.0.0,>=3.8.3->langchain-community<0.3.0,>=0.2.6->langchain_experimental) (6.0.5)\n",
      "Requirement already satisfied: yarl<2.0,>=1.0 in /usr/local/lib/python3.10/dist-packages (from aiohttp<4.0.0,>=3.8.3->langchain-community<0.3.0,>=0.2.6->langchain_experimental) (1.9.4)\n",
      "Requirement already satisfied: async-timeout<5.0,>=4.0 in /usr/local/lib/python3.10/dist-packages (from aiohttp<4.0.0,>=3.8.3->langchain-community<0.3.0,>=0.2.6->langchain_experimental) (4.0.3)\n",
      "Requirement already satisfied: marshmallow<4.0.0,>=3.18.0 in /usr/local/lib/python3.10/dist-packages (from dataclasses-json<0.7,>=0.5.7->langchain-community<0.3.0,>=0.2.6->langchain_experimental) (3.21.3)\n",
      "Requirement already satisfied: typing-inspect<1,>=0.4.0 in /usr/local/lib/python3.10/dist-packages (from dataclasses-json<0.7,>=0.5.7->langchain-community<0.3.0,>=0.2.6->langchain_experimental) (0.9.0)\n",
      "Requirement already satisfied: jsonpointer>=1.9 in /usr/local/lib/python3.10/dist-packages (from jsonpatch<2.0,>=1.33->langchain-core<0.3.0,>=0.2.10->langchain_experimental) (2.4)\n",
      "Requirement already satisfied: langchain-text-splitters<0.3.0,>=0.2.0 in /usr/local/lib/python3.10/dist-packages (from langchain<0.3.0,>=0.2.7->langchain-community<0.3.0,>=0.2.6->langchain_experimental) (0.2.2)\n",
      "Requirement already satisfied: orjson<4.0.0,>=3.9.14 in /usr/local/lib/python3.10/dist-packages (from langsmith<0.2.0,>=0.1.0->langchain-community<0.3.0,>=0.2.6->langchain_experimental) (3.10.6)\n",
      "Requirement already satisfied: annotated-types>=0.4.0 in /usr/local/lib/python3.10/dist-packages (from pydantic<3,>=1->langchain-core<0.3.0,>=0.2.10->langchain_experimental) (0.7.0)\n",
      "Requirement already satisfied: pydantic-core==2.20.1 in /usr/local/lib/python3.10/dist-packages (from pydantic<3,>=1->langchain-core<0.3.0,>=0.2.10->langchain_experimental) (2.20.1)\n",
      "Requirement already satisfied: typing-extensions>=4.6.1 in /usr/local/lib/python3.10/dist-packages (from pydantic<3,>=1->langchain-core<0.3.0,>=0.2.10->langchain_experimental) (4.11.0)\n",
      "Requirement already satisfied: charset-normalizer<4,>=2 in /usr/local/lib/python3.10/dist-packages (from requests<3,>=2->langchain-community<0.3.0,>=0.2.6->langchain_experimental) (3.3.2)\n",
      "Requirement already satisfied: idna<4,>=2.5 in /usr/local/lib/python3.10/dist-packages (from requests<3,>=2->langchain-community<0.3.0,>=0.2.6->langchain_experimental) (3.7)\n",
      "Requirement already satisfied: urllib3<3,>=1.21.1 in /usr/local/lib/python3.10/dist-packages (from requests<3,>=2->langchain-community<0.3.0,>=0.2.6->langchain_experimental) (2.2.1)\n",
      "Requirement already satisfied: certifi>=2017.4.17 in /usr/local/lib/python3.10/dist-packages (from requests<3,>=2->langchain-community<0.3.0,>=0.2.6->langchain_experimental) (2024.2.2)\n",
      "Requirement already satisfied: greenlet!=0.4.17 in /usr/local/lib/python3.10/dist-packages (from SQLAlchemy<3,>=1.4->langchain-community<0.3.0,>=0.2.6->langchain_experimental) (3.0.3)\n",
      "Requirement already satisfied: mypy-extensions>=0.3.0 in /usr/local/lib/python3.10/dist-packages (from typing-inspect<1,>=0.4.0->dataclasses-json<0.7,>=0.5.7->langchain-community<0.3.0,>=0.2.6->langchain_experimental) (1.0.0)\n",
      "\u001b[33mWARNING: Running pip as the 'root' user can result in broken permissions and conflicting behaviour with the system package manager. It is recommended to use a virtual environment instead: https://pip.pypa.io/warnings/venv\u001b[0m\u001b[33m\n",
      "\u001b[0m\n",
      "\u001b[1m[\u001b[0m\u001b[34;49mnotice\u001b[0m\u001b[1;39;49m]\u001b[0m\u001b[39;49m A new release of pip is available: \u001b[0m\u001b[31;49m24.0\u001b[0m\u001b[39;49m -> \u001b[0m\u001b[32;49m24.1.1\u001b[0m\n",
      "\u001b[1m[\u001b[0m\u001b[34;49mnotice\u001b[0m\u001b[1;39;49m]\u001b[0m\u001b[39;49m To update, run: \u001b[0m\u001b[32;49mpython3 -m pip install --upgrade pip\u001b[0m\n",
      "Collecting numexpr\n",
      "  Downloading numexpr-2.10.1-cp310-cp310-manylinux_2_27_x86_64.manylinux_2_28_x86_64.whl.metadata (1.2 kB)\n",
      "Requirement already satisfied: numpy>=1.23.0 in /usr/local/lib/python3.10/dist-packages (from numexpr) (1.26.4)\n",
      "Downloading numexpr-2.10.1-cp310-cp310-manylinux_2_27_x86_64.manylinux_2_28_x86_64.whl (405 kB)\n",
      "\u001b[2K   \u001b[90m━━━━━━━━━━━━━━━━━━━━━━━━━━━━━━━━━━━━━━━\u001b[0m \u001b[32m405.0/405.0 kB\u001b[0m \u001b[31m203.5 kB/s\u001b[0m eta \u001b[36m0:00:00\u001b[0ma \u001b[36m0:00:01\u001b[0m\n",
      "\u001b[?25hInstalling collected packages: numexpr\n",
      "Successfully installed numexpr-2.10.1\n",
      "\u001b[33mWARNING: Running pip as the 'root' user can result in broken permissions and conflicting behaviour with the system package manager. It is recommended to use a virtual environment instead: https://pip.pypa.io/warnings/venv\u001b[0m\u001b[33m\n",
      "\u001b[0m\n",
      "\u001b[1m[\u001b[0m\u001b[34;49mnotice\u001b[0m\u001b[1;39;49m]\u001b[0m\u001b[39;49m A new release of pip is available: \u001b[0m\u001b[31;49m24.0\u001b[0m\u001b[39;49m -> \u001b[0m\u001b[32;49m24.1.1\u001b[0m\n",
      "\u001b[1m[\u001b[0m\u001b[34;49mnotice\u001b[0m\u001b[1;39;49m]\u001b[0m\u001b[39;49m To update, run: \u001b[0m\u001b[32;49mpython3 -m pip install --upgrade pip\u001b[0m\n"
     ]
    }
   ],
   "source": [
    "!pip install langchain_experimental\n",
    "!pip install numexpr"
   ]
  },
  {
   "cell_type": "code",
   "execution_count": 20,
   "id": "728f3fb3-43e5-4f88-bbff-e522aaebd993",
   "metadata": {
    "execution": {
     "iopub.execute_input": "2024-07-10T15:20:16.545469Z",
     "iopub.status.busy": "2024-07-10T15:20:16.544783Z",
     "iopub.status.idle": "2024-07-10T15:21:27.314014Z",
     "shell.execute_reply": "2024-07-10T15:21:27.312704Z",
     "shell.execute_reply.started": "2024-07-10T15:20:16.545430Z"
    }
   },
   "outputs": [
    {
     "name": "stdout",
     "output_type": "stream",
     "text": [
      "\n",
      "\n",
      "\u001b[1m> Entering new PlanAndExecute chain...\u001b[0m\n",
      "steps=[Step(value='查找纽约当前玫瑰花束的平均价格。'), Step(value='计算用100美元在纽约可以购买的玫瑰花束数量。'), Step(value='给出计算结果。\\n')]\n",
      "\n",
      "\u001b[1m> Entering new AgentExecutor chain...\u001b[0m\n",
      "\u001b[32;1m\u001b[1;3mThought: To find the current average price of a bouquet of roses in New York, I should search for the most recent data or information available online.\n",
      "\n",
      "Action:\n",
      "```\n",
      "{\n",
      "  \"action\": \"Search\",\n",
      "  \"action_input\": \"current average price of a bouquet of roses in New York 2023\"\n",
      "}\n",
      "```\u001b[0m\n",
      "Observation: \u001b[36;1m\u001b[1;3m['At one Queens florist, where costs have soared in recent years, a bouquet is $72, up from $60 in 2019.', 'A bouquet of a dozen roses costs just $71.63 on average. That is more than 19% less than the national average and $57 less than what it costs to buy the same ...', 'Mia Roses. Same-Day Hand-Delivery! Mia. $76.00. Shop Now. Sunset Bouquet Roses. Same-Day Hand-Delivery! Sunset Bouquet.', 'Red roses cost more, maybe thirty or forty dollars. It is often a thoughtful idea to send or give flowers in a vase. We find gifts like this ...', 'Send Roses today! Same day delivery to Brooklyn, NY and surrounding areas. Buy the freshest flowers from 13th Avenue Florist ... $99.99 · Thoughts of You Bouquet ...', 'According to our internal data, the average cost of wedding flowers in 2023 was $2,800. The cost of wedding flowers has been steadily increasing ...', '$95 Arrangement size Standard Bouquet will be delivered approximately as pictured. ... $125 Arrangement size Deluxe Additional flowers will be added to enhance ...', 'Occasion. Main Menu. Best Sellers; Frank Gallo Orchids and Roses $74.99; Starbuck Island $74.99; The Amsterdam Bouquet $89.99; Sunny Saratoga $89.99.', 'The average cost of wedding flowers in the U.S. is around $1500 with most couples spending between $700 and $2500. Find pricing in your area.', 'If you break that down further, the COGS for fresh flowers and foliage should be no more than 25 percent of the retail price of the arrangement.']\u001b[0m\n",
      "Thought:\u001b[32;1m\u001b[1;3mBased on the search results, it appears that the average price of a bouquet of roses in New York varies depending on the florist and the specific arrangement, but typical prices mentioned are around $72 to $99.99.\n",
      "\n",
      "Action:\n",
      "```\n",
      "{\n",
      "  \"action\": \"Final Answer\",\n",
      "  \"action_input\": \"The current average price of a bouquet of roses in New York is approximately between $72 and $99.99.\"\n",
      "}\n",
      "```\u001b[0m\n",
      "\n",
      "\u001b[1m> Finished chain.\u001b[0m\n",
      "*****\n",
      "\n",
      "Step: 查找纽约当前玫瑰花束的平均价格。\n",
      "\n",
      "Response: The current average price of a bouquet of roses in New York is approximately between $72 and $99.99.\n",
      "\n",
      "\u001b[1m> Entering new AgentExecutor chain...\u001b[0m\n",
      "\u001b[32;1m\u001b[1;3mThought: To determine how many rose bouquets $100 can purchase in New York, I need to use the average price range provided ($72 to $99.99).\n",
      "\n",
      "Action:\n",
      "```\n",
      "{\n",
      "  \"action\": \"Calculator\",\n",
      "  \"action_input\": \"100 / 72\"\n",
      "}\n",
      "```\u001b[0m\n",
      "\n",
      "\u001b[1m> Entering new LLMMathChain chain...\u001b[0m\n",
      "100 / 72\u001b[32;1m\u001b[1;3m```text\n",
      "100 / 72\n",
      "```\n",
      "...numexpr.evaluate(\"100 / 72\")...\n",
      "\u001b[0m\n",
      "Answer: \u001b[33;1m\u001b[1;3m1.3888888888888888\u001b[0m\n",
      "\u001b[1m> Finished chain.\u001b[0m\n",
      "\n",
      "Observation: \u001b[33;1m\u001b[1;3mAnswer: 1.3888888888888888\u001b[0m\n",
      "Thought:\u001b[32;1m\u001b[1;3mTo finalize the number of rose bouquets that $100 can purchase in New York, I also need to consider the upper limit of the price range.\n",
      "\n",
      "Action:\n",
      "```\n",
      "{\n",
      "  \"action\": \"Calculator\",\n",
      "  \"action_input\": \"100 / 99.99\"\n",
      "}\n",
      "```\n",
      "\u001b[0m\n",
      "\n",
      "\u001b[1m> Entering new LLMMathChain chain...\u001b[0m\n",
      "100 / 99.99\u001b[32;1m\u001b[1;3m```text\n",
      "100 / 99.99\n",
      "```\n",
      "...numexpr.evaluate(\"100 / 99.99\")...\n",
      "\u001b[0m\n",
      "Answer: \u001b[33;1m\u001b[1;3m1.0001000100010002\u001b[0m\n",
      "\u001b[1m> Finished chain.\u001b[0m\n",
      "\n",
      "Observation: \u001b[33;1m\u001b[1;3mAnswer: 1.0001000100010002\u001b[0m\n",
      "Thought:\u001b[32;1m\u001b[1;3mTo determine the range of the number of rose bouquets that $100 can buy in New York, we already have the results from the calculator:\n",
      "\n",
      "- At the lower end of the price range ($72 per bouquet), you can purchase approximately 1.39 bouquets.\n",
      "- At the higher end of the price range ($99.99 per bouquet), you can purchase approximately 1.00 bouquet.\n",
      "\n",
      "Action:\n",
      "```\n",
      "{\n",
      "  \"action\": \"Final Answer\",\n",
      "  \"action_input\": \"$100 can purchase approximately between 1 and 1.39 rose bouquets in New York.\"\n",
      "}\n",
      "```\u001b[0m\n",
      "\n",
      "\u001b[1m> Finished chain.\u001b[0m\n",
      "*****\n",
      "\n",
      "Step: 计算用100美元在纽约可以购买的玫瑰花束数量。\n",
      "\n",
      "Response: $100 can purchase approximately between 1 and 1.39 rose bouquets in New York.\n",
      "\n",
      "\u001b[1m> Entering new AgentExecutor chain...\u001b[0m\n",
      "\u001b[32;1m\u001b[1;3mAction:\n",
      "```\n",
      "{\n",
      "  \"action\": \"Final Answer\",\n",
      "  \"action_input\": \"根据计算结果，使用100美元在纽约可以购买大约1至1.39束玫瑰花束。\"\n",
      "}\n",
      "```\u001b[0m\n",
      "\n",
      "\u001b[1m> Finished chain.\u001b[0m\n",
      "*****\n",
      "\n",
      "Step: 给出计算结果。\n",
      "\n",
      "\n",
      "Response: 根据计算结果，使用100美元在纽约可以购买大约1至1.39束玫瑰花束。\n",
      "\u001b[1m> Finished chain.\u001b[0m\n"
     ]
    },
    {
     "data": {
      "text/plain": [
       "{'input': '在纽约，100美元能买几束玫瑰?', 'output': '根据计算结果，使用100美元在纽约可以购买大约1至1.39束玫瑰花束。'}"
      ]
     },
     "execution_count": 20,
     "metadata": {},
     "output_type": "execute_result"
    }
   ],
   "source": [
    "from langchain_experimental.plan_and_execute import PlanAndExecute,load_agent_executor,load_chat_planner\n",
    "from langchain_openai import ChatOpenAI\n",
    "from langchain_community.utilities import SerpAPIWrapper\n",
    "from langchain_core.tools import Tool\n",
    "from langchain.chains import LLMMathChain\n",
    "\n",
    "search = SerpAPIWrapper()\n",
    "llm = ChatOpenAI(model_name=model_name, temperature=0)\n",
    "llm_math_chain = LLMMathChain.from_llm(llm=llm, verbose=True)\n",
    "\n",
    "tools = [\n",
    "    Tool(\n",
    "        name = \"Search\",\n",
    "        func=search.run,\n",
    "        description=\"useful for when you need to answer questions about current events\",\n",
    "    ),\n",
    "    Tool(\n",
    "        name=\"Calculator\",\n",
    "        func=llm_math_chain.run,\n",
    "        description=\"useful for when you need to answer questions about math\",\n",
    "    ),\n",
    "]\n",
    "model = ChatOpenAI(model_name=model_name, temperature=0)\n",
    "planner = load_chat_planner(model)\n",
    "executor = load_agent_executor(model, tools, verbose=True)\n",
    "agent = PlanAndExecute(planner=planner, executor=executor, verbose=True)\n",
    "agent.invoke(\"在纽约，100美元能买几束玫瑰?\")"
   ]
  }
 ],
 "metadata": {
  "kernelspec": {
   "display_name": "Python 3 (ipykernel)",
   "language": "python",
   "name": "python3"
  },
  "language_info": {
   "codemirror_mode": {
    "name": "ipython",
    "version": 3
   },
   "file_extension": ".py",
   "mimetype": "text/x-python",
   "name": "python",
   "nbconvert_exporter": "python",
   "pygments_lexer": "ipython3",
   "version": "3.10.12"
  }
 },
 "nbformat": 4,
 "nbformat_minor": 5
}
