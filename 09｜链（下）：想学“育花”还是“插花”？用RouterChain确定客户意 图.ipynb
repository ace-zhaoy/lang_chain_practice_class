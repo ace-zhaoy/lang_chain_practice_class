{
 "cells": [
  {
   "cell_type": "code",
   "execution_count": 1,
   "id": "e2751071-bd16-4884-86e0-8b997f3623e2",
   "metadata": {
    "execution": {
     "iopub.execute_input": "2024-06-26T14:23:45.732378Z",
     "iopub.status.busy": "2024-06-26T14:23:45.731974Z",
     "iopub.status.idle": "2024-06-26T14:23:45.740730Z",
     "shell.execute_reply": "2024-06-26T14:23:45.739641Z",
     "shell.execute_reply.started": "2024-06-26T14:23:45.732349Z"
    },
    "tags": []
   },
   "outputs": [],
   "source": [
    "model_name = \"gpt-4o-ca\""
   ]
  },
  {
   "cell_type": "markdown",
   "id": "f3a26b78-4091-4475-920c-d7470706eeb7",
   "metadata": {},
   "source": [
    "# 路由链（RouterChain）"
   ]
  },
  {
   "cell_type": "code",
   "execution_count": 2,
   "id": "ad6fbcf7-1687-44ac-8d65-5e7285d6d44e",
   "metadata": {
    "execution": {
     "iopub.execute_input": "2024-06-26T14:23:47.721714Z",
     "iopub.status.busy": "2024-06-26T14:23:47.721060Z",
     "iopub.status.idle": "2024-06-26T14:23:48.705562Z",
     "shell.execute_reply": "2024-06-26T14:23:48.704054Z",
     "shell.execute_reply.started": "2024-06-26T14:23:47.721682Z"
    },
    "tags": []
   },
   "outputs": [],
   "source": [
    "from langchain_openai import ChatOpenAI\n",
    "from langchain.chains.router import MultiPromptChain\n",
    "from langchain.chains import ConversationChain\n",
    "\n",
    "flower_care_template = \"\"\"你是一位经验丰富的园丁，擅长解答关于养花育花的问题。\n",
    "                        下面是需要你来回答的问题：\n",
    "                        {input}\"\"\"\n",
    "\n",
    "flower_deco_template = \"\"\"你是一位网红插画大师，擅长解答关于鲜花装饰的问题。\n",
    "                        下面是需要你来回答的问题：\n",
    "                        {input}\"\"\"\n",
    "\n",
    "prompt_infos = [\n",
    "    {\n",
    "        \"name\": \"flower_care\",\n",
    "        \"description\": \"适合回答关于鲜花护理的问题\",\n",
    "        \"prompt_template\": flower_care_template,\n",
    "    },\n",
    "    {\n",
    "        \"name\": \"flower_deco\",\n",
    "        \"description\": \"适合回答关于鲜花装饰的问题\",\n",
    "        \"prompt_template\": flower_deco_template,\n",
    "    }\n",
    "]\n",
    "\n",
    "llm = ChatOpenAI(model_name = model_name)\n",
    "\n",
    "default_chain = ConversationChain(llm=llm, output_key=\"text\", verbose=True)\n",
    "\n",
    "chain = MultiPromptChain.from_prompts(\n",
    "    llm=llm,\n",
    "    prompt_infos=prompt_infos,\n",
    "    default_chain=default_chain,\n",
    "    verbose=True\n",
    ")\n"
   ]
  },
  {
   "cell_type": "code",
   "execution_count": 3,
   "id": "a59c721c-847d-4ff5-8ef9-61a83022e1ee",
   "metadata": {
    "execution": {
     "iopub.execute_input": "2024-06-26T14:23:49.344724Z",
     "iopub.status.busy": "2024-06-26T14:23:49.344086Z",
     "iopub.status.idle": "2024-06-26T14:24:37.890047Z",
     "shell.execute_reply": "2024-06-26T14:24:37.888758Z",
     "shell.execute_reply.started": "2024-06-26T14:23:49.344688Z"
    },
    "tags": []
   },
   "outputs": [
    {
     "name": "stdout",
     "output_type": "stream",
     "text": [
      "\n",
      "\n",
      "\u001b[1m> Entering new MultiPromptChain chain...\u001b[0m\n",
      "flower_care: {'input': '如何为玫瑰浇水？'}\n",
      "\u001b[1m> Finished chain.\u001b[0m\n",
      "{'input': '如何为玫瑰浇水？', 'text': '为玫瑰浇水是养护过程中非常关键的一环。以下是一些有效的浇水建议：\\n\\n1. **浇水频率**：\\n   - **生长期（春季和夏季）**：玫瑰在生长期需要较多的水。通常每周浇水1-2次，视天气情况而定。如果天气特别炎热或干旱，可以增加浇水频率。\\n   - **休眠期（秋季和冬季）**：玫瑰在休眠期需要减少浇水，每2-3周一次即可。\\n\\n2. **浇水时间**：\\n   - **早晨**：最好在早晨进行浇水，这样叶片有足够的时间在白天干燥，减少病害的发生。\\n   - **避免傍晚**：傍晚浇水可能导致叶片在夜间保持湿润，增加霉菌和病害的风险。\\n\\n3. **浇水方法**：\\n   - **根部浇水**：尽量直接浇在根部，避免浇水到叶片上。可以使用滴灌系统或缓慢浇水的方式，确保水能渗透到根系。\\n   - **深度浇水**：每次浇水要保证足够深度，使水渗透到至少15-20厘米的土层深处，促进根系向下生长。\\n\\n4. **土壤湿度**：\\n   - 保持土壤湿润但不积水。玫瑰喜欢排水良好的土壤，避免根部长期浸泡在水中导致根腐。\\n\\n5. **气候因素**：\\n   - **炎热干燥天气**：增加浇水频率，确保玫瑰不缺水。\\n   - **多雨季节**：减少浇水，防止土壤过湿。\\n\\n6. **覆盖物**：\\n   - 使用覆盖物如树皮、稻草等覆盖在土壤表面，可以帮助保持土壤湿度，减少水分蒸发，同时还可以抑制杂草生长。\\n\\n遵循这些建议，可以帮助你有效地为玫瑰浇水，促进其健康生长和开花。'}\n"
     ]
    }
   ],
   "source": [
    "print(chain.invoke(\"如何为玫瑰浇水？\"))"
   ]
  },
  {
   "cell_type": "code",
   "execution_count": 4,
   "id": "4fec11e4-711e-43ce-bb8b-b88c171f376e",
   "metadata": {
    "execution": {
     "iopub.execute_input": "2024-06-26T14:24:37.894068Z",
     "iopub.status.busy": "2024-06-26T14:24:37.892787Z",
     "iopub.status.idle": "2024-06-26T14:27:01.552140Z",
     "shell.execute_reply": "2024-06-26T14:27:01.551274Z",
     "shell.execute_reply.started": "2024-06-26T14:24:37.894034Z"
    },
    "tags": []
   },
   "outputs": [
    {
     "name": "stdout",
     "output_type": "stream",
     "text": [
      "\n",
      "\n",
      "\u001b[1m> Entering new MultiPromptChain chain...\u001b[0m\n",
      "flower_deco: {'input': '如何为婚礼场地装饰花朵？'}\n",
      "\u001b[1m> Finished chain.\u001b[0m\n",
      "{'input': '如何为婚礼场地装饰花朵？', 'text': '为婚礼场地装饰花朵是一个非常重要的环节，它不仅能提升婚礼的美感，还能营造出浪漫和温馨的氛围。以下是一些步骤和技巧，帮助你巧妙地用花朵装饰婚礼场地：\\n\\n### 1. 确定主题和色彩方案\\n首先，你需要确定婚礼的主题和色彩方案。花朵的颜色应与婚礼主题相匹配。常见的婚礼主题包括经典、复古、田园、海滩等，每种主题对应的花朵颜色和类型会有所不同。\\n\\n### 2. 选择适合的花材\\n根据季节和主题选择适合的花材。常见的婚礼用花包括玫瑰、百合、牡丹、绣球花、康乃馨等。尽量选择当季花材，这样不仅新鲜还相对经济。\\n\\n### 3. 制作花艺设计图\\n在动手装饰之前，可以先制作一个简单的花艺设计图。这有助于你更好地规划花朵的摆放位置和数量，避免现场手忙脚乱。\\n\\n### 4. 入口和过道装饰\\n在婚礼场地的入口和过道处，可以使用拱门、花柱或花球进行装饰。这样可以给来宾留下深刻的第一印象。\\n\\n### 5. 主舞台和背景装饰\\n主舞台是婚礼的焦点之一，因此需要特别用心装饰。可以选择用花墙、花环或悬挂花朵来装饰背景，确保与整体风格协调。\\n\\n### 6. 桌花装饰\\n桌花是婚宴桌上的重要装饰。可以选择低矮的花瓶或花盒，以便来宾能够方便地交谈。注意桌花的颜色和高度，不要阻挡视线。\\n\\n### 7. 细节装饰\\n不要忽视小细节，可以在椅背、餐巾、菜单等处添加小花束或花瓣，增加婚礼的精致感。\\n\\n### 8. 使用绿植\\n除了鲜花，还可以使用一些绿植，如蕨类植物、常春藤等，来增加层次感和自然感。\\n\\n### 9. 考虑花朵的保鲜\\n在婚礼当天，确保花朵的保鲜非常重要。可以提前一天布置大部分装饰，但像主舞台和桌花这样的重点区域，可以在婚礼当天早上进行最后的调整。\\n\\n### 10. 寻求专业帮助\\n如果预算允许，可以请专业的花艺师来帮助你完成婚礼现场的花艺布置。他们有丰富的经验和专业的技巧，可以确保每一处细节都完美无瑕。\\n\\n通过以上步骤，你可以为婚礼场地打造一个美丽而浪漫的花海，让每一位来宾都感受到幸福与喜悦。祝你的婚礼布置一切顺利！'}\n"
     ]
    }
   ],
   "source": [
    "print(chain.invoke(\"如何为婚礼场地装饰花朵？\"))"
   ]
  },
  {
   "cell_type": "code",
   "execution_count": 6,
   "id": "58b2366c-4e96-4ad4-90ed-500136f751fa",
   "metadata": {
    "execution": {
     "iopub.execute_input": "2024-06-26T14:28:22.912799Z",
     "iopub.status.busy": "2024-06-26T14:28:22.912497Z",
     "iopub.status.idle": "2024-06-26T14:32:05.273168Z",
     "shell.execute_reply": "2024-06-26T14:32:05.272008Z",
     "shell.execute_reply.started": "2024-06-26T14:28:22.912773Z"
    },
    "tags": []
   },
   "outputs": [
    {
     "name": "stdout",
     "output_type": "stream",
     "text": [
      "\n",
      "\n",
      "\u001b[1m> Entering new MultiPromptChain chain...\u001b[0m\n",
      "None: {'input': '如何考入哈佛大学？'}\n",
      "\n",
      "\u001b[1m> Entering new ConversationChain chain...\u001b[0m\n",
      "Prompt after formatting:\n",
      "\u001b[32;1m\u001b[1;3mThe following is a friendly conversation between a human and an AI. The AI is talkative and provides lots of specific details from its context. If the AI does not know the answer to a question, it truthfully says it does not know.\n",
      "\n",
      "Current conversation:\n",
      "\n",
      "Human: 如何考入哈佛大学？\n",
      "AI:\u001b[0m\n",
      "\n",
      "\u001b[1m> Finished chain.\u001b[0m\n",
      "\n",
      "\u001b[1m> Finished chain.\u001b[0m\n",
      "考入哈佛大学是一项非常具有挑战性的任务，因为哈佛是世界上最具竞争力的大学之一。以下是一些可能帮助你提高入学机会的建议：\n",
      "\n",
      "1. **学术成绩**：保持非常高的GPA（平均绩点）是关键。大部分被录取的学生在高中期间都是班上的顶尖学生。\n",
      "\n",
      "2. **标准化考试成绩**：哈佛大学通常要求SAT或ACT成绩。尽量在这些考试中取得高分，特别是在数学和英语部分。\n",
      "\n",
      "3. **课外活动**：哈佛非常重视申请人的课外活动，包括体育、音乐、志愿服务、科研项目等。展示你的领导能力和对某些活动的深度参与会加分。\n",
      "\n",
      "4. **推荐信**：强有力的推荐信是申请的重要部分。选择那些了解你、能够详细描述你能力和潜力的老师或导师来写推荐信。\n",
      "\n",
      "5. **个人陈述**：你的申请文书应该展示你的个性、兴趣和价值观。写出独特且有说服力的故事，展示你为什么适合哈佛。\n",
      "\n",
      "6. **面试**：如果你获得面试机会，准备好回答有关你的学术兴趣、课外活动和未来计划的问题。\n",
      "\n",
      "7. **申请时间**：注意哈佛大学的申请截止日期。通常有两种申请计划：早期申请（通常在11月）和常规申请（通常在1月）。\n",
      "\n",
      "8. **多样性和背景**：哈佛也很重视学生的多样性背景，包括文化、种族、地理、经济等方面。\n",
      "\n",
      "9. **展示个人优势**：突出你的独特之处和你可以为哈佛社区带来的贡献。\n",
      "\n",
      "尽管这些建议可以帮助你提高入学机会，但也要记住哈佛的录取过程是非常竞争激烈的，每年都有许多优秀的学生被拒之门外。因此，拥有多个备选计划也是明智的。 祝你好运！\n"
     ]
    }
   ],
   "source": [
    "result = chain.invoke(\"如何考入哈佛大学？\")\n",
    "print(result[\"text\"])"
   ]
  }
 ],
 "metadata": {
  "kernelspec": {
   "display_name": "Python 3 (ipykernel)",
   "language": "python",
   "name": "python3"
  },
  "language_info": {
   "codemirror_mode": {
    "name": "ipython",
    "version": 3
   },
   "file_extension": ".py",
   "mimetype": "text/x-python",
   "name": "python",
   "nbconvert_exporter": "python",
   "pygments_lexer": "ipython3",
   "version": "3.10.12"
  }
 },
 "nbformat": 4,
 "nbformat_minor": 5
}
