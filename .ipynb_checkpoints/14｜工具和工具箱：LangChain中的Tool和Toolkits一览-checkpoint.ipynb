{
 "cells": [
  {
   "cell_type": "code",
   "execution_count": 1,
   "id": "d6c5e602-ff2f-45ce-815e-bbc426650b95",
   "metadata": {
    "execution": {
     "iopub.execute_input": "2024-07-08T14:56:08.072196Z",
     "iopub.status.busy": "2024-07-08T14:56:08.071503Z",
     "iopub.status.idle": "2024-07-08T14:56:08.080999Z",
     "shell.execute_reply": "2024-07-08T14:56:08.079881Z",
     "shell.execute_reply.started": "2024-07-08T14:56:08.072163Z"
    }
   },
   "outputs": [
    {
     "name": "stdout",
     "output_type": "stream",
     "text": [
      "sk-8wT14d0enszIPvwdXDNTWVOHnitwhMULuMylJOb1lqwqdv5P\n"
     ]
    }
   ],
   "source": [
    "import os\n",
    "print(os.environ['OPENAI_API_KEY'])"
   ]
  }
 ],
 "metadata": {
  "kernelspec": {
   "display_name": "Python 3 (ipykernel)",
   "language": "python",
   "name": "python3"
  },
  "language_info": {
   "codemirror_mode": {
    "name": "ipython",
    "version": 3
   },
   "file_extension": ".py",
   "mimetype": "text/x-python",
   "name": "python",
   "nbconvert_exporter": "python",
   "pygments_lexer": "ipython3",
   "version": "3.10.12"
  }
 },
 "nbformat": 4,
 "nbformat_minor": 5
}
