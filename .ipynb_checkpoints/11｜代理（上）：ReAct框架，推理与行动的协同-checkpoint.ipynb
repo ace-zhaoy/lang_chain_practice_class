{
 "cells": [
  {
   "cell_type": "code",
   "execution_count": 3,
   "id": "b85eaf99-405a-4152-90ad-c38e18896eb0",
   "metadata": {
    "execution": {
     "iopub.execute_input": "2024-06-30T15:38:36.010953Z",
     "iopub.status.busy": "2024-06-30T15:38:36.010397Z",
     "iopub.status.idle": "2024-06-30T15:38:48.889699Z",
     "shell.execute_reply": "2024-06-30T15:38:48.888815Z",
     "shell.execute_reply.started": "2024-06-30T15:38:36.010915Z"
    },
    "tags": []
   },
   "outputs": [
    {
     "name": "stdout",
     "output_type": "stream",
     "text": [
      "Requirement already satisfied: google-search-results in /usr/local/lib/python3.10/dist-packages (2.4.2)\n",
      "Requirement already satisfied: requests in /usr/local/lib/python3.10/dist-packages (from google-search-results) (2.31.0)\n",
      "Requirement already satisfied: charset-normalizer<4,>=2 in /usr/local/lib/python3.10/dist-packages (from requests->google-search-results) (3.3.2)\n",
      "Requirement already satisfied: idna<4,>=2.5 in /usr/local/lib/python3.10/dist-packages (from requests->google-search-results) (3.6)\n",
      "Requirement already satisfied: urllib3<3,>=1.21.1 in /usr/local/lib/python3.10/dist-packages (from requests->google-search-results) (2.2.1)\n",
      "Requirement already satisfied: certifi>=2017.4.17 in /usr/local/lib/python3.10/dist-packages (from requests->google-search-results) (2024.2.2)\n",
      "\u001b[33mWARNING: Running pip as the 'root' user can result in broken permissions and conflicting behaviour with the system package manager. It is recommended to use a virtual environment instead: https://pip.pypa.io/warnings/venv\u001b[0m\u001b[33m\n",
      "\u001b[0m\n",
      "\u001b[1m[\u001b[0m\u001b[34;49mnotice\u001b[0m\u001b[1;39;49m]\u001b[0m\u001b[39;49m A new release of pip is available: \u001b[0m\u001b[31;49m24.0\u001b[0m\u001b[39;49m -> \u001b[0m\u001b[32;49m24.1.1\u001b[0m\n",
      "\u001b[1m[\u001b[0m\u001b[34;49mnotice\u001b[0m\u001b[1;39;49m]\u001b[0m\u001b[39;49m To update, run: \u001b[0m\u001b[32;49mpython3 -m pip install --upgrade pip\u001b[0m\n",
      "Collecting langchainhub\n",
      "  Downloading langchainhub-0.1.20-py3-none-any.whl.metadata (659 bytes)\n",
      "Requirement already satisfied: packaging<25,>=23.2 in /usr/local/lib/python3.10/dist-packages (from langchainhub) (23.2)\n",
      "Requirement already satisfied: requests<3,>=2 in /usr/local/lib/python3.10/dist-packages (from langchainhub) (2.31.0)\n",
      "Collecting types-requests<3.0.0.0,>=2.31.0.2 (from langchainhub)\n",
      "  Downloading types_requests-2.32.0.20240622-py3-none-any.whl.metadata (1.8 kB)\n",
      "Requirement already satisfied: charset-normalizer<4,>=2 in /usr/local/lib/python3.10/dist-packages (from requests<3,>=2->langchainhub) (3.3.2)\n",
      "Requirement already satisfied: idna<4,>=2.5 in /usr/local/lib/python3.10/dist-packages (from requests<3,>=2->langchainhub) (3.6)\n",
      "Requirement already satisfied: urllib3<3,>=1.21.1 in /usr/local/lib/python3.10/dist-packages (from requests<3,>=2->langchainhub) (2.2.1)\n",
      "Requirement already satisfied: certifi>=2017.4.17 in /usr/local/lib/python3.10/dist-packages (from requests<3,>=2->langchainhub) (2024.2.2)\n",
      "Downloading langchainhub-0.1.20-py3-none-any.whl (5.0 kB)\n",
      "Downloading types_requests-2.32.0.20240622-py3-none-any.whl (15 kB)\n",
      "Installing collected packages: types-requests, langchainhub\n",
      "Successfully installed langchainhub-0.1.20 types-requests-2.32.0.20240622\n",
      "\u001b[33mWARNING: Running pip as the 'root' user can result in broken permissions and conflicting behaviour with the system package manager. It is recommended to use a virtual environment instead: https://pip.pypa.io/warnings/venv\u001b[0m\u001b[33m\n",
      "\u001b[0m\n",
      "\u001b[1m[\u001b[0m\u001b[34;49mnotice\u001b[0m\u001b[1;39;49m]\u001b[0m\u001b[39;49m A new release of pip is available: \u001b[0m\u001b[31;49m24.0\u001b[0m\u001b[39;49m -> \u001b[0m\u001b[32;49m24.1.1\u001b[0m\n",
      "\u001b[1m[\u001b[0m\u001b[34;49mnotice\u001b[0m\u001b[1;39;49m]\u001b[0m\u001b[39;49m To update, run: \u001b[0m\u001b[32;49mpython3 -m pip install --upgrade pip\u001b[0m\n"
     ]
    }
   ],
   "source": [
    "!pip install google-search-results\n",
    "!pip install langchainhub"
   ]
  },
  {
   "cell_type": "code",
   "execution_count": 1,
   "id": "84158d42-26ce-40b7-82f0-c71bd5680290",
   "metadata": {
    "execution": {
     "iopub.execute_input": "2024-06-30T15:40:10.139637Z",
     "iopub.status.busy": "2024-06-30T15:40:10.139365Z",
     "iopub.status.idle": "2024-06-30T15:40:10.148964Z",
     "shell.execute_reply": "2024-06-30T15:40:10.148046Z",
     "shell.execute_reply.started": "2024-06-30T15:40:10.139610Z"
    },
    "tags": []
   },
   "outputs": [],
   "source": [
    "model_name = \"gpt-4o-ca\""
   ]
  },
  {
   "cell_type": "code",
   "execution_count": 2,
   "id": "d53fad05-8a8b-4c1b-934d-863a623aa6a0",
   "metadata": {
    "execution": {
     "iopub.execute_input": "2024-06-30T15:25:59.076490Z",
     "iopub.status.busy": "2024-06-30T15:25:59.075666Z",
     "iopub.status.idle": "2024-06-30T15:26:16.634749Z",
     "shell.execute_reply": "2024-06-30T15:26:16.633982Z",
     "shell.execute_reply.started": "2024-06-30T15:25:59.076462Z"
    },
    "tags": []
   },
   "outputs": [
    {
     "name": "stderr",
     "output_type": "stream",
     "text": [
      "/usr/local/lib/python3.10/dist-packages/langchain_core/_api/deprecation.py:139: LangChainDeprecationWarning: The function `initialize_agent` was deprecated in LangChain 0.1.0 and will be removed in 0.3.0. Use Use new agent constructor methods like create_react_agent, create_json_agent, create_structured_chat_agent, etc. instead.\n",
      "  warn_deprecated(\n",
      "/usr/local/lib/python3.10/dist-packages/langchain_core/_api/deprecation.py:139: LangChainDeprecationWarning: The method `Chain.run` was deprecated in langchain 0.1.0 and will be removed in 0.3.0. Use invoke instead.\n",
      "  warn_deprecated(\n"
     ]
    },
    {
     "name": "stdout",
     "output_type": "stream",
     "text": [
      "\n",
      "\n",
      "\u001b[1m> Entering new AgentExecutor chain...\u001b[0m\n",
      "\u001b[32;1m\u001b[1;3m目前市场上玫瑰花的平均价格可能会有所波动，因此需要查找最新的市场价格信息。接下来，我将进行搜索以获取当前市场上玫瑰花的平均价格。\n",
      "\n",
      "Action: Search\n",
      "Action Input: 目前市场上玫瑰花的平均价格\n",
      "\u001b[0m\n",
      "Observation: \u001b[36;1m\u001b[1;3m['数据显示，2021年我国玫瑰花总产值从2017年的86亿元增长到102亿元，预计到2022年我国玫瑰花产业规模将有望达到105亿元。 展开剩余94%.', '以玫瑰为例，云南昆明国际花卉拍卖交易中心统计数据显示，玫瑰的市场价格指数已突破800点，相较2023年1月，已上涨约500点，各品种玫瑰平均价格上涨超过50% ...', '从春节到现在花的价格都比较贵. 但今天买的人还是非常多. 基本上花束都 ... 11朵玫瑰花基本上都要200元左右. 平均一朵都在20元左右. 对于鲜花价格的 ...', '店铺负责人表示一周前就陆续收到了情人节当天的预约花束订单，特定价格在520、1314等有着特殊含义的花束也是当前门店的主打款。', '位于西部地区的成都市鲜花批发市场里，玫瑰批发价相比去年也已经翻倍，1扎20支红玫瑰平均每天涨10-15元。在北方的郑州花卉市场，去年最低40元一扎（20 ...', '被称为“自由女神”的厄瓜多尔玫瑰，在成都市场每支的批发价60元，零售价逼近了100元，25支一束批发价是1500元。“我们建议零售价是2000元，现在已经缺货，一些花店零售价格 ...', '记者了解到，目前市场内15枝鲜切香槟玫瑰68元/束、蓝玫瑰88元/束；价格最高的是红玫瑰，11枝鲜切红玫瑰98元/束、21枝150元；99枝鲜切红玫瑰价格则高达500－800元左右。', '花价高，并不是一天两天了。去年底，花价还一度赶上当年七夕。究竟发生了什么？ “根本没货！”曾旺成表示，现在的昆明斗南市场上，玫瑰都要靠抢。记者 ...', '今年由于气温回升较快，玫瑰花已经开始采摘。平阴县玫瑰鲜花蕾开秤价格从2.8元/斤，迅速攀升至4月27日的3.5元/斤，开秤价格平均每斤比去年同期上涨1 ...', '... 玫瑰，平均贵了6、70元。 ... 去年底，花价还一度赶上当年七夕。究竟发生了什么？ “根本没货！”曾旺成表示，现在的昆明斗南市场上，玫瑰都要靠抢。']\u001b[0m\n",
      "Thought:\u001b[32;1m\u001b[1;3m从搜索结果中，我看到了一些关于玫瑰花价格的信息，但没有一个明确的平均价格。我看到一条信息说11朵玫瑰花基本上都要200元左右，平均一朵都在20元左右。我将使用这个价格作为平均价格。接下来，我需要计算在这个价格基础上加价15%的结果。\n",
      "\n",
      "Action: Calculator\n",
      "Action Input: 20 * 1.15\n",
      "\u001b[0m\n",
      "Observation: \u001b[33;1m\u001b[1;3mAnswer: 23.0\u001b[0m\n",
      "Thought:\u001b[32;1m\u001b[1;3mI now know the final answer.\n",
      "\n",
      "Final Answer: 目前市场上玫瑰花的平均价格大约是每朵20元。如果在此基础上加价15%卖出，定价应该是每朵23元。\u001b[0m\n",
      "\n",
      "\u001b[1m> Finished chain.\u001b[0m\n"
     ]
    },
    {
     "data": {
      "text/plain": [
       "'目前市场上玫瑰花的平均价格大约是每朵20元。如果在此基础上加价15%卖出，定价应该是每朵23元。'"
      ]
     },
     "execution_count": 2,
     "metadata": {},
     "output_type": "execute_result"
    }
   ],
   "source": [
    "from langchain.agents import load_tools\n",
    "from langchain.agents import initialize_agent\n",
    "from langchain.agents import AgentType\n",
    "from langchain_openai import ChatOpenAI\n",
    "\n",
    "llm = ChatOpenAI(model_name=model_name, temperature=0)\n",
    "\n",
    "tools = load_tools([\"serpapi\", \"llm-math\"], llm=llm)\n",
    "agent = initialize_agent(\n",
    "    tools,\n",
    "    llm,\n",
    "    agent=AgentType.ZERO_SHOT_REACT_DESCRIPTION,\n",
    "    verbose=True\n",
    ")\n",
    "agent.run(\"目前市场上玫瑰花的平均价格是多少？如果我在此基础上加价15%卖出，应该如何定价？\")"
   ]
  },
  {
   "cell_type": "code",
   "execution_count": 2,
   "id": "3d4c69d9-eeb9-49be-9de7-97db855f89e6",
   "metadata": {
    "execution": {
     "iopub.execute_input": "2024-06-30T15:40:12.593409Z",
     "iopub.status.busy": "2024-06-30T15:40:12.592636Z",
     "iopub.status.idle": "2024-06-30T15:40:50.213693Z",
     "shell.execute_reply": "2024-06-30T15:40:50.212901Z",
     "shell.execute_reply.started": "2024-06-30T15:40:12.593373Z"
    },
    "tags": []
   },
   "outputs": [
    {
     "name": "stdout",
     "output_type": "stream",
     "text": [
      "\n",
      "\n",
      "\u001b[1m> Entering new AgentExecutor chain...\u001b[0m\n",
      "\u001b[32;1m\u001b[1;3m目前市场上玫瑰花的平均价格可能会有所波动，因此需要查找最新的市场价格信息。接下来，我将进行搜索以获取当前市场上玫瑰花的平均价格。\n",
      "\n",
      "Action: Search\n",
      "Action Input: 目前市场上玫瑰花的平均价格\n",
      "\u001b[0m\u001b[36;1m\u001b[1;3m['数据显示，2021年我国玫瑰花总产值从2017年的86亿元增长到102亿元，预计到2022年我国玫瑰花产业规模将有望达到105亿元。 展开剩余94%.', '以玫瑰为例，云南昆明国际花卉拍卖交易中心统计数据显示，玫瑰的市场价格指数已突破800点，相较2023年1月，已上涨约500点，各品种玫瑰平均价格上涨超过50% ...', '从春节到现在花的价格都比较贵. 但今天买的人还是非常多. 基本上花束都 ... 11朵玫瑰花基本上都要200元左右. 平均一朵都在20元左右. 对于鲜花价格的 ...', '店铺负责人表示一周前就陆续收到了情人节当天的预约花束订单，特定价格在520、1314等有着特殊含义的花束也是当前门店的主打款。', '位于西部地区的成都市鲜花批发市场里，玫瑰批发价相比去年也已经翻倍，1扎20支红玫瑰平均每天涨10-15元。在北方的郑州花卉市场，去年最低40元一扎（20 ...', '被称为“自由女神”的厄瓜多尔玫瑰，在成都市场每支的批发价60元，零售价逼近了100元，25支一束批发价是1500元。“我们建议零售价是2000元，现在已经缺货，一些花店零售价格 ...', '记者了解到，目前市场内15枝鲜切香槟玫瑰68元/束、蓝玫瑰88元/束；价格最高的是红玫瑰，11枝鲜切红玫瑰98元/束、21枝150元；99枝鲜切红玫瑰价格则高达500－800元左右。', '花价高，并不是一天两天了。去年底，花价还一度赶上当年七夕。究竟发生了什么？ “根本没货！”曾旺成表示，现在的昆明斗南市场上，玫瑰都要靠抢。记者 ...', '今年由于气温回升较快，玫瑰花已经开始采摘。平阴县玫瑰鲜花蕾开秤价格从2.8元/斤，迅速攀升至4月27日的3.5元/斤，开秤价格平均每斤比去年同期上涨1 ...', '... 玫瑰，平均贵了6、70元。 ... 去年底，花价还一度赶上当年七夕。究竟发生了什么？ “根本没货！”曾旺成表示，现在的昆明斗南市场上，玫瑰都要靠抢。']\u001b[0m\u001b[32;1m\u001b[1;3m从搜索结果中，我找到了一些关于玫瑰花价格的信息，但是这些信息并不一致。有的说一朵玫瑰花大约20元，有的说11朵玫瑰花98元，也就是平均每朵约9元。考虑到价格可能因地区和品种的不同而有所差异，我将选择一个中间值作为平均价格。我将选择15元作为每朵玫瑰的平均价格。接下来，我需要计算在此基础上加价15%的价格。\n",
      "\n",
      "Action: Calculator\n",
      "Action Input: 15 * 1.15\n",
      "\u001b[0m\u001b[33;1m\u001b[1;3mAnswer: 17.25\u001b[0m\u001b[32;1m\u001b[1;3mI now know the final answer.\n",
      "\n",
      "Final Answer: 目前市场上玫瑰花的平均价格大约为15元。如果在此基础上加价15%卖出，定价应该为17.25元。\u001b[0m\n",
      "\n",
      "\u001b[1m> Finished chain.\u001b[0m\n"
     ]
    },
    {
     "data": {
      "text/plain": [
       "{'input': '目前市场上玫瑰花的平均价格是多少？如果我在此基础上加价15%卖出，应该如何定价？',\n",
       " 'output': '目前市场上玫瑰花的平均价格大约为15元。如果在此基础上加价15%卖出，定价应该为17.25元。'}"
      ]
     },
     "execution_count": 2,
     "metadata": {},
     "output_type": "execute_result"
    }
   ],
   "source": [
    "# 替换掉即将废弃的 initialize_agent\n",
    "from langchain import hub\n",
    "from langchain.agents import load_tools\n",
    "from langchain.agents import AgentExecutor, create_react_agent\n",
    "from langchain_openai import ChatOpenAI\n",
    "\n",
    "llm = ChatOpenAI(model_name=model_name, temperature=0)\n",
    "\n",
    "tools = load_tools([\"serpapi\", \"llm-math\"], llm=llm)\n",
    "prompt = hub.pull(\"hwchase17/react\")\n",
    "agent = create_react_agent(\n",
    "    llm,\n",
    "    tools, \n",
    "    prompt\n",
    ")\n",
    "agent_executor = AgentExecutor(agent=agent, tools=tools, verbose=True)\n",
    "\n",
    "agent_executor.invoke({\"input\": \"目前市场上玫瑰花的平均价格是多少？如果我在此基础上加价15%卖出，应该如何定价？\"})"
   ]
  },
  {
   "cell_type": "code",
   "execution_count": null,
   "id": "20ee8f36-0b4c-41ae-975e-dffe7c715d10",
   "metadata": {},
   "outputs": [],
   "source": []
  }
 ],
 "metadata": {
  "kernelspec": {
   "display_name": "Python 3 (ipykernel)",
   "language": "python",
   "name": "python3"
  },
  "language_info": {
   "codemirror_mode": {
    "name": "ipython",
    "version": 3
   },
   "file_extension": ".py",
   "mimetype": "text/x-python",
   "name": "python",
   "nbconvert_exporter": "python",
   "pygments_lexer": "ipython3",
   "version": "3.10.12"
  }
 },
 "nbformat": 4,
 "nbformat_minor": 5
}
