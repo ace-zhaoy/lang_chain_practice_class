{
 "cells": [
  {
   "cell_type": "markdown",
   "id": "0530c20a-55b9-4e02-98a0-84f8fcc9134e",
   "metadata": {},
   "source": [
    "# Pydantic（JSON）解析器实战"
   ]
  },
  {
   "cell_type": "code",
   "execution_count": 22,
   "id": "cd561f1f-eabd-45ac-ad81-268191759732",
   "metadata": {
    "execution": {
     "iopub.execute_input": "2024-06-21T15:16:15.947602Z",
     "iopub.status.busy": "2024-06-21T15:16:15.947300Z",
     "iopub.status.idle": "2024-06-21T15:16:27.506694Z",
     "shell.execute_reply": "2024-06-21T15:16:27.505780Z",
     "shell.execute_reply.started": "2024-06-21T15:16:15.947576Z"
    },
    "tags": []
   },
   "outputs": [
    {
     "name": "stdout",
     "output_type": "stream",
     "text": [
      "输出格式： The output should be formatted as a JSON instance that conforms to the JSON schema below.\n",
      "\n",
      "As an example, for the schema {\"properties\": {\"foo\": {\"title\": \"Foo\", \"description\": \"a list of strings\", \"type\": \"array\", \"items\": {\"type\": \"string\"}}}, \"required\": [\"foo\"]}\n",
      "the object {\"foo\": [\"bar\", \"baz\"]} is a well-formatted instance of the schema. The object {\"properties\": {\"foo\": [\"bar\", \"baz\"]}} is not well-formatted.\n",
      "\n",
      "Here is the output schema:\n",
      "```\n",
      "{\"properties\": {\"flower_type\": {\"description\": \"\\u9c9c\\u82b1\\u7684\\u79cd\\u7c7b\", \"title\": \"Flower Type\", \"type\": \"string\"}, \"price\": {\"description\": \"\\u9c9c\\u82b1\\u7684\\u4ef7\\u683c\", \"title\": \"Price\", \"type\": \"integer\"}, \"description\": {\"description\": \"\\u9c9c\\u82b1\\u7684\\u63cf\\u8ff0\\u6587\\u6848\", \"title\": \"Description\", \"type\": \"string\"}, \"reason\": {\"description\": \"\\u4e3a\\u4ec0\\u4e48\\u8981\\u8fd9\\u6837\\u5199\\u8fd9\\u4e2a\\u6587\\u6848\", \"title\": \"Reason\", \"type\": \"string\"}}, \"required\": [\"flower_type\", \"price\", \"description\", \"reason\"]}\n",
      "```\n",
      "提示： input_variables=['flower', 'price'] partial_variables={'format_instructions': 'The output should be formatted as a JSON instance that conforms to the JSON schema below.\\n\\nAs an example, for the schema {\"properties\": {\"foo\": {\"title\": \"Foo\", \"description\": \"a list of strings\", \"type\": \"array\", \"items\": {\"type\": \"string\"}}}, \"required\": [\"foo\"]}\\nthe object {\"foo\": [\"bar\", \"baz\"]} is a well-formatted instance of the schema. The object {\"properties\": {\"foo\": [\"bar\", \"baz\"]}} is not well-formatted.\\n\\nHere is the output schema:\\n```\\n{\"properties\": {\"flower_type\": {\"description\": \"\\\\u9c9c\\\\u82b1\\\\u7684\\\\u79cd\\\\u7c7b\", \"title\": \"Flower Type\", \"type\": \"string\"}, \"price\": {\"description\": \"\\\\u9c9c\\\\u82b1\\\\u7684\\\\u4ef7\\\\u683c\", \"title\": \"Price\", \"type\": \"integer\"}, \"description\": {\"description\": \"\\\\u9c9c\\\\u82b1\\\\u7684\\\\u63cf\\\\u8ff0\\\\u6587\\\\u6848\", \"title\": \"Description\", \"type\": \"string\"}, \"reason\": {\"description\": \"\\\\u4e3a\\\\u4ec0\\\\u4e48\\\\u8981\\\\u8fd9\\\\u6837\\\\u5199\\\\u8fd9\\\\u4e2a\\\\u6587\\\\u6848\", \"title\": \"Reason\", \"type\": \"string\"}}, \"required\": [\"flower_type\", \"price\", \"description\", \"reason\"]}\\n```'} template='您是一位专业的鲜花店文案撰写员。\\n对于售价为 {price} 元的 {flower} ，您能提供一个吸引人的简短中文描述吗？\\n{format_instructions}'\n",
      "提示： 您是一位专业的鲜花店文案撰写员。\n",
      "对于售价为 50 元的 玫瑰 ，您能提供一个吸引人的简短中文描述吗？\n",
      "The output should be formatted as a JSON instance that conforms to the JSON schema below.\n",
      "\n",
      "As an example, for the schema {\"properties\": {\"foo\": {\"title\": \"Foo\", \"description\": \"a list of strings\", \"type\": \"array\", \"items\": {\"type\": \"string\"}}}, \"required\": [\"foo\"]}\n",
      "the object {\"foo\": [\"bar\", \"baz\"]} is a well-formatted instance of the schema. The object {\"properties\": {\"foo\": [\"bar\", \"baz\"]}} is not well-formatted.\n",
      "\n",
      "Here is the output schema:\n",
      "```\n",
      "{\"properties\": {\"flower_type\": {\"description\": \"\\u9c9c\\u82b1\\u7684\\u79cd\\u7c7b\", \"title\": \"Flower Type\", \"type\": \"string\"}, \"price\": {\"description\": \"\\u9c9c\\u82b1\\u7684\\u4ef7\\u683c\", \"title\": \"Price\", \"type\": \"integer\"}, \"description\": {\"description\": \"\\u9c9c\\u82b1\\u7684\\u63cf\\u8ff0\\u6587\\u6848\", \"title\": \"Description\", \"type\": \"string\"}, \"reason\": {\"description\": \"\\u4e3a\\u4ec0\\u4e48\\u8981\\u8fd9\\u6837\\u5199\\u8fd9\\u4e2a\\u6587\\u6848\", \"title\": \"Reason\", \"type\": \"string\"}}, \"required\": [\"flower_type\", \"price\", \"description\", \"reason\"]}\n",
      "```\n",
      "提示： 您是一位专业的鲜花店文案撰写员。\n",
      "对于售价为 30 元的 百合 ，您能提供一个吸引人的简短中文描述吗？\n",
      "The output should be formatted as a JSON instance that conforms to the JSON schema below.\n",
      "\n",
      "As an example, for the schema {\"properties\": {\"foo\": {\"title\": \"Foo\", \"description\": \"a list of strings\", \"type\": \"array\", \"items\": {\"type\": \"string\"}}}, \"required\": [\"foo\"]}\n",
      "the object {\"foo\": [\"bar\", \"baz\"]} is a well-formatted instance of the schema. The object {\"properties\": {\"foo\": [\"bar\", \"baz\"]}} is not well-formatted.\n",
      "\n",
      "Here is the output schema:\n",
      "```\n",
      "{\"properties\": {\"flower_type\": {\"description\": \"\\u9c9c\\u82b1\\u7684\\u79cd\\u7c7b\", \"title\": \"Flower Type\", \"type\": \"string\"}, \"price\": {\"description\": \"\\u9c9c\\u82b1\\u7684\\u4ef7\\u683c\", \"title\": \"Price\", \"type\": \"integer\"}, \"description\": {\"description\": \"\\u9c9c\\u82b1\\u7684\\u63cf\\u8ff0\\u6587\\u6848\", \"title\": \"Description\", \"type\": \"string\"}, \"reason\": {\"description\": \"\\u4e3a\\u4ec0\\u4e48\\u8981\\u8fd9\\u6837\\u5199\\u8fd9\\u4e2a\\u6587\\u6848\", \"title\": \"Reason\", \"type\": \"string\"}}, \"required\": [\"flower_type\", \"price\", \"description\", \"reason\"]}\n",
      "```\n",
      "提示： 您是一位专业的鲜花店文案撰写员。\n",
      "对于售价为 20 元的 康乃馨 ，您能提供一个吸引人的简短中文描述吗？\n",
      "The output should be formatted as a JSON instance that conforms to the JSON schema below.\n",
      "\n",
      "As an example, for the schema {\"properties\": {\"foo\": {\"title\": \"Foo\", \"description\": \"a list of strings\", \"type\": \"array\", \"items\": {\"type\": \"string\"}}}, \"required\": [\"foo\"]}\n",
      "the object {\"foo\": [\"bar\", \"baz\"]} is a well-formatted instance of the schema. The object {\"properties\": {\"foo\": [\"bar\", \"baz\"]}} is not well-formatted.\n",
      "\n",
      "Here is the output schema:\n",
      "```\n",
      "{\"properties\": {\"flower_type\": {\"description\": \"\\u9c9c\\u82b1\\u7684\\u79cd\\u7c7b\", \"title\": \"Flower Type\", \"type\": \"string\"}, \"price\": {\"description\": \"\\u9c9c\\u82b1\\u7684\\u4ef7\\u683c\", \"title\": \"Price\", \"type\": \"integer\"}, \"description\": {\"description\": \"\\u9c9c\\u82b1\\u7684\\u63cf\\u8ff0\\u6587\\u6848\", \"title\": \"Description\", \"type\": \"string\"}, \"reason\": {\"description\": \"\\u4e3a\\u4ec0\\u4e48\\u8981\\u8fd9\\u6837\\u5199\\u8fd9\\u4e2a\\u6587\\u6848\", \"title\": \"Reason\", \"type\": \"string\"}}, \"required\": [\"flower_type\", \"price\", \"description\", \"reason\"]}\n",
      "```\n",
      "输出的数据： [{'flower_type': '玫瑰', 'price': 50, 'description': '这束玫瑰象征着热烈的爱与美好，只需 50 元，就能为您的特别时刻增添一抹浪漫。', 'reason': '通过强调玫瑰的象征意义和实惠的价格，吸引顾客购买用于表达情感或庆祝特殊时刻。'}, {'flower_type': '百合', 'price': 30, 'description': '纯洁高雅的百合，象征着纯真和希望，送给最珍贵的人，表达你最真挚的心意。', 'reason': '百合花具有高雅的象征意义，适合送给亲人、朋友或恋人，价格适中，能吸引顾客购买。'}, {'flower_type': '康乃馨', 'price': 20, 'description': '每一朵康乃馨都传递着温暖与关怀，20 元为您带来一份不变的爱意。', 'reason': '通过强调康乃馨的象征意义和亲民价格，吸引顾客购买，用来表达他们对亲友的关爱。'}]\n"
     ]
    }
   ],
   "source": [
    "from langchain_openai import ChatOpenAI\n",
    "\n",
    "model_name = \"gpt-4o-ca\"\n",
    "\n",
    "llm = ChatOpenAI(model_name=model_name)\n",
    "\n",
    "import pandas as pd\n",
    "df = pd.DataFrame(columns=[\"flower_type\", \"price\", \"description\", \"reason\"])\n",
    "\n",
    "flowers = [\"玫瑰\", \"百合\", \"康乃馨\"]\n",
    "prices = [\"50\", \"30\", \"20\"]\n",
    "\n",
    "from pydantic import BaseModel, Field\n",
    "\n",
    "class FlowerDescription(BaseModel):\n",
    "    flower_type: str = Field(description=\"鲜花的种类\")\n",
    "    price: int = Field(description=\"鲜花的价格\")\n",
    "    description: str = Field(description=\"鲜花的描述文案\")\n",
    "    reason: str = Field(description=\"为什么要这样写这个文案\")\n",
    "    \n",
    "from langchain.output_parsers import PydanticOutputParser\n",
    "output_parser = PydanticOutputParser(pydantic_object=FlowerDescription)\n",
    "\n",
    "format_instructions = output_parser.get_format_instructions()\n",
    "\n",
    "print(\"输出格式：\",format_instructions)\n",
    "\n",
    "from langchain.prompts import PromptTemplate\n",
    "prompt_template = \"\"\"您是一位专业的鲜花店文案撰写员。\n",
    "对于售价为 {price} 元的 {flower} ，您能提供一个吸引人的简短中文描述吗？\n",
    "{format_instructions}\"\"\"\n",
    "\n",
    "prompt = PromptTemplate.from_template(prompt_template,\n",
    "partial_variables={\"format_instructions\": format_instructions})\n",
    "\n",
    "print(\"提示：\", prompt)\n",
    "\n",
    "for flower, price in zip(flowers, prices):\n",
    "    input = prompt.format(flower=flower, price=price)\n",
    "    print(\"提示：\", input)\n",
    "    output = llm.invoke(input)\n",
    "    parsed_output = output_parser.parse(output.content)\n",
    "    parsed_output_dict = parsed_output.dict() \n",
    "    df.loc[len(df)] = parsed_output.dict()\n",
    "\n",
    "print(\"输出的数据：\", df.to_dict(orient='records'))"
   ]
  },
  {
   "cell_type": "markdown",
   "id": "3ac637cf-e8f3-4c22-8de5-a1a2c9e3fda5",
   "metadata": {},
   "source": [
    "# 自动修复解析器（OutputFixingParser）实战"
   ]
  },
  {
   "cell_type": "code",
   "execution_count": 29,
   "id": "f62055ab-fab1-451f-9a48-23fa40812abd",
   "metadata": {
    "execution": {
     "iopub.execute_input": "2024-06-21T16:00:35.821978Z",
     "iopub.status.busy": "2024-06-21T16:00:35.821148Z",
     "iopub.status.idle": "2024-06-21T16:00:42.648887Z",
     "shell.execute_reply": "2024-06-21T16:00:42.648002Z",
     "shell.execute_reply.started": "2024-06-21T16:00:35.821943Z"
    },
    "tags": []
   },
   "outputs": [
    {
     "name": "stdout",
     "output_type": "stream",
     "text": [
      "name='康乃馨' colors=['粉红色', '白色', '红色', '紫色', '黄色']\n"
     ]
    }
   ],
   "source": [
    "from langchain.output_parsers import PydanticOutputParser\n",
    "from pydantic import BaseModel, Field\n",
    "from typing import List\n",
    "\n",
    "\n",
    "class Flower(BaseModel):\n",
    "    name: str = Field(description=\"name of a flower\")\n",
    "    colors: List[str] = Field(description=\"the colors of this flower\")\n",
    "    \n",
    "flower_query = \"Generate the charaters for a random flower.\"\n",
    "\n",
    "misformatted = \"{'name': '康乃馨', 'colors': ['粉红色','白色','红色','紫色','黄色']}\"\n",
    "\n",
    "parser = PydanticOutputParser(pydantic_object=Flower)\n",
    "\n",
    "# parser.parse(misformatted)\n",
    "\n",
    "from langchain_openai import ChatOpenAI\n",
    "from langchain.output_parsers import OutputFixingParser\n",
    "\n",
    "new_parser = OutputFixingParser.from_llm(parser=parser, llm=ChatOpenAI(model_name=model_name))\n",
    "result = new_parser.parse(misformatted)\n",
    "\n",
    "print(result)"
   ]
  },
  {
   "cell_type": "markdown",
   "id": "d1c0b42e-95d4-422b-82f4-569b4e392ead",
   "metadata": {},
   "source": [
    "# 重试解析器（RetryWithErrorOutputParser）实战"
   ]
  },
  {
   "cell_type": "code",
   "execution_count": 30,
   "id": "6059870b-bbaf-4e5e-9e46-33739234086d",
   "metadata": {
    "execution": {
     "iopub.execute_input": "2024-06-21T16:00:42.650349Z",
     "iopub.status.busy": "2024-06-21T16:00:42.650147Z",
     "iopub.status.idle": "2024-06-21T16:00:47.663198Z",
     "shell.execute_reply": "2024-06-21T16:00:47.662392Z",
     "shell.execute_reply.started": "2024-06-21T16:00:42.650329Z"
    },
    "tags": []
   },
   "outputs": [
    {
     "name": "stdout",
     "output_type": "stream",
     "text": [
      "OutputFixingParser的parse结果: action='search' action_input='query'\n"
     ]
    }
   ],
   "source": [
    "template = \"\"\"Based on the user question, provide an Action and Action Input for\n",
    "{format_instructions}\n",
    "Question: {query}\n",
    "Response:\"\"\"\n",
    "\n",
    "from pydantic import BaseModel, Field\n",
    "\n",
    "class Action(BaseModel):\n",
    "    action: str = Field(description=\"action to take\")\n",
    "    action_input: str = Field(description=\"input to the action\")\n",
    "\n",
    "    \n",
    "    \n",
    "from langchain.output_parsers import PydanticOutputParser\n",
    "\n",
    "parser = PydanticOutputParser(pydantic_object=Action)\n",
    "\n",
    "\n",
    "from langchain.prompts import PromptTemplate\n",
    "\n",
    "prompt = PromptTemplate(\n",
    "    template=\"Answer the user query.\\n{format_instructions}\\n{query}\\n\",\n",
    "    input_variables=[\"query\"],\n",
    "    partial_variables={\"format_instructions\": parser.get_format_instructions()},\n",
    ")\n",
    "prompt_value = prompt.format_prompt(query=\"What are the colors of Orchid?\")\n",
    "\n",
    "bad_response = '{\"action\": \"search\"}'\n",
    "# parser.parse(bad_response) \n",
    "\n",
    "\n",
    "from langchain.output_parsers import OutputFixingParser\n",
    "from langchain_openai import ChatOpenAI\n",
    "\n",
    "fix_parser = OutputFixingParser.from_llm(parser=parser, llm=ChatOpenAI(model_name=model_name))\n",
    "parse_result = fix_parser.parse(bad_response)\n",
    "\n",
    "print('OutputFixingParser的parse结果:',parse_result)"
   ]
  },
  {
   "cell_type": "markdown",
   "id": "59d8f7fb-6e25-44bc-8efb-499313e2c7b6",
   "metadata": {},
   "source": [
    "# RetryWithErrorOutputParser"
   ]
  },
  {
   "cell_type": "code",
   "execution_count": 32,
   "id": "411d010d-2b7f-4cba-9ab7-e9f018f7d047",
   "metadata": {
    "execution": {
     "iopub.execute_input": "2024-06-21T16:03:59.359785Z",
     "iopub.status.busy": "2024-06-21T16:03:59.358952Z",
     "iopub.status.idle": "2024-06-21T16:04:05.068331Z",
     "shell.execute_reply": "2024-06-21T16:04:05.067421Z",
     "shell.execute_reply.started": "2024-06-21T16:03:59.359749Z"
    },
    "tags": []
   },
   "outputs": [
    {
     "name": "stdout",
     "output_type": "stream",
     "text": [
      "RetryWithErrorOutputParser的parse结果: action='search' action_input='colors of Orchid'\n"
     ]
    }
   ],
   "source": [
    "from langchain.output_parsers import RetryWithErrorOutputParser\n",
    "from langchain_openai import ChatOpenAI\n",
    "\n",
    "retry_parser = RetryWithErrorOutputParser.from_llm(\n",
    "    parser=parser, llm=ChatOpenAI(model_name=model_name, temperature=0)\n",
    ")\n",
    "parse_result = retry_parser.parse_with_prompt(bad_response, prompt_value)\n",
    "print('RetryWithErrorOutputParser的parse结果:', parse_result)"
   ]
  }
 ],
 "metadata": {
  "kernelspec": {
   "display_name": "Python 3 (ipykernel)",
   "language": "python",
   "name": "python3"
  },
  "language_info": {
   "codemirror_mode": {
    "name": "ipython",
    "version": 3
   },
   "file_extension": ".py",
   "mimetype": "text/x-python",
   "name": "python",
   "nbconvert_exporter": "python",
   "pygments_lexer": "ipython3",
   "version": "3.10.12"
  }
 },
 "nbformat": 4,
 "nbformat_minor": 5
}
